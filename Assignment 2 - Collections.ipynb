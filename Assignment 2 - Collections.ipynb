{
 "cells": [
  {
   "cell_type": "markdown",
   "metadata": {},
   "source": [
    "**Collections**\n",
    "\n",
    "In programming, particularly with data analysis, it is often either necessary or just ***really, really useful*** for us to work with collections of \"things\" instead of single, scalar values. You are probably familiar with this concept from your introductions to Matlab, which uses specific types of collections called arrays and matrices. Python includes support for both arrays and matrices in addition to many other types of collections. As with scalars, each type of collection has unique properties that determine how we interact with them at the Python console and the applications they can or should be used for. The main types of collections that we will use in this course are **tuples**, **arrays**, and **lists**:\n",
    "\n",
    "**Tuple:** A tuple is set of \"items\" that are ordered and arranged by index. A tuple can include scalars (e.g., a tuple of strings), but it isn't limited to scalar contents.  That is, a tuple may contain other collections (e.g., a tuple of lists or a tuple of tuples). Just like strings, tuples are **immutable**. Again, this means that we **cannot** change the contents of a tuple once it is defined. If you need to replace an element in that tuple, you have to redefine the tuple.\n",
    "\n",
    "In Python, you construct a tuple using parentheses.  **For example:**\n",
    "\n",
    "    A = (1, 2, 3, 4)\n",
    "    \n",
    "creates a tuple called A that contains four integers.\n",
    "\n",
    "    B = ('apples', 'oranges', 'bananas') \n",
    "    \n",
    "creates a tuple called B that contains 3 different strings, and\n",
    "\n",
    "    C = (A, B)\n",
    "    \n",
    "Creates a tuple that includes two other tuples, A and B.  The first contains integers, and the second contains strings.  You are not constrained to a single type of scalar or even size of scalar inside of a tuple (A has 4 elements, while B has 3).\n",
    "\n",
    "Give these a try in the cell below. Use print() to display the tuples, and use type() to check that all are tuples."
   ]
  },
  {
   "cell_type": "code",
   "execution_count": 1,
   "metadata": {},
   "outputs": [
    {
     "name": "stdout",
     "output_type": "stream",
     "text": [
      "((1, 2, 3, 4), ('apples', 'oranges', 'bananas'))\n",
      "<class 'tuple'>\n"
     ]
    }
   ],
   "source": [
    "A = (1, 2, 3, 4)\n",
    "B = ('apples', 'oranges', 'bananas')\n",
    "C = (A, B) \n",
    "print(C)\n",
    "print(type(C)) "
   ]
  },
  {
   "cell_type": "markdown",
   "metadata": {},
   "source": [
    "As we saw with strings, the elements of a tuple are indexed, and we can extract them by referencing their index.  For example, running:\n",
    "\n",
    "    print(B[0])\n",
    "\n",
    "will display the first element of the tuple called B, while\n",
    "\n",
    "    All_Her_Favorite_Fruit = (B[0],B[2])\n",
    "\n",
    "will create a new tuple called All_Her_Favorite_Fruit that includes apples and bananas but not oranges.\n",
    "\n",
    "A very important property of tuples is that they are immutable, so if I see that I mistakenly included bananas instead of kiwis in my list, I cannot redefine it as:\n",
    "\n",
    "    B[2] = 'kiwis'\n",
    "\n",
    "which will produce an error.  Instead, I would have to define a new tuple:\n",
    "\n",
    "    oops = ('apples', 'oranges', 'kiwis')\n",
    "    \n",
    "Try these out below to get a feel for how to interact with tuples in Python.\n",
    "    "
   ]
  },
  {
   "cell_type": "code",
   "execution_count": 4,
   "metadata": {},
   "outputs": [
    {
     "name": "stdout",
     "output_type": "stream",
     "text": [
      "apples\n",
      "('apples', 'bananas')\n"
     ]
    }
   ],
   "source": [
    "print(B[0])\n",
    "All_Her_Favorite_Fruit = (B[0],B[2])\n",
    "print(All_Her_Favorite_Fruit) \n",
    "#B[2] = 'kiwis' returns an error b/c it was already defined"
   ]
  },
  {
   "cell_type": "markdown",
   "metadata": {},
   "source": [
    "**Arrays**: Unlike Tuples, Arrays are **mutable**, ordered collections in which each element has a specific index. They can include any type of scalar or collection, so they are superficially similar to lists (which are covered below), but they have some important differences. One of the major ones, in simple terms is that you can *generally* perform mathematical operations directly on an array, whereas you cannot *generally* perform mathematical operations directly on a list. For the numerical simulations we will cover later in the course, arrays are very useful, so it is worth introducing them now. If you are familiar with Matlab, the \"array\" class in Python behaves similarly to the vectors and matrices that you're used to working with in Matlab (whereas lists do not). \n",
    "\n",
    "In Python, the most robust array support is provided by the **numpy** package, so this is a good place to introduce an aspect of Python that we haven't seen before. In languages like Matlab or Octave, more often than not, we are able to use features that are built into the language, whereas in Python, when we need to do something specific, we frequently have to add functionality that is missing from base Python. We do this by adding packages. \n",
    "\n",
    "You should be aware that, outside of this course, you may need to install packages manually using either **pip** or **conda** package managers; however, for this course, we have chosen to install Anaconda, which includes all of the packages we will use.  Despite this, they are not imported by default, so we will have to do so manually whenever we need to use them in our current Python or Jupyter session. We do this using the import command. \n",
    "\n",
    "We will use it now to import the numpy package, which includes very nice array support.  At its most basic, the command is written this way:\n",
    "\n",
    "    import numpy\n",
    "\n",
    "Added at the start of your worksheet or python script, this command will import the numpy package and allow you to use any modules contained therein. Take a look at example Python scripts you've seen before; notice how many times an import command is included.  This is because specific scripts need to utilize different tools that are not included in the Python base.\n",
    "\n",
    "Now that I've imported numpy, I can use it to create an array, I can do so with the array module in numpy:\n",
    "\n",
    "    D = numpy.array([0,10,20])\n",
    "    \n",
    "This will construct a one-dimensional array--you might think of it as a row vector--that contains 3 integers. You can confirm this using print() and type() as usual. **Note** This is a very specific syntax that is required when creating numpy arrays. Parentheses and brackets are both non-negotiable."
   ]
  },
  {
   "cell_type": "code",
   "execution_count": 6,
   "metadata": {},
   "outputs": [
    {
     "name": "stdout",
     "output_type": "stream",
     "text": [
      "[ 0 10 20]\n",
      "<class 'numpy.ndarray'>\n"
     ]
    }
   ],
   "source": [
    "import numpy\n",
    "D = numpy.array([0,10,20]) \n",
    "print(D) \n",
    "print(type(D))"
   ]
  },
  {
   "cell_type": "markdown",
   "metadata": {},
   "source": [
    "Very frequently, you will see Python users truncate a long package name into something more user friendly. Numpy is very popular, and it is almost always aliased as \"np.\"  You can do this easily inline with the import statement:\n",
    "\n",
    "    import numpy as np\n",
    "\n",
    "This stament imports all of the tools in numpy but allows you to refer to numpy as \"np\" instead of \"numpy.\" This is entirely optional, but you see it done frequently enough that it is worth mentioning so that you know what it is when you see it. Just to demonstrate how it works, once we have aliased numpy as np, try the following in the cell below:\n",
    "\n",
    "    E = np.array([1, 2, 3, 4])"
   ]
  },
  {
   "cell_type": "code",
   "execution_count": 7,
   "metadata": {},
   "outputs": [
    {
     "name": "stdout",
     "output_type": "stream",
     "text": [
      "[1 2 3 4]\n"
     ]
    }
   ],
   "source": [
    "import numpy as np\n",
    "E = np.array([1, 2, 3, 4])\n",
    "print(E)"
   ]
  },
  {
   "cell_type": "markdown",
   "metadata": {},
   "source": [
    "A final note on importing packages.  Sometimes, you may be only interested in importing a specific module from a package that includes many modules.  It is possible to do so.  For example, if I wanted to import only the array module from numpy, I would do so by typing:\n",
    "\n",
    "    from numpy import array\n",
    "\n",
    "and then I can use the array module directly to define a new array. Once I've imported the array module as above, I can define a new array by typing:\n",
    "\n",
    "    F = array([1,2,3,4])\n",
    "    \n",
    "Really, these are all equivalent ways of accomplishing the same thing, but you will likely encounter all of the above conventions as you continue to work in Python, so it is worth familiarizing yourself with them now."
   ]
  },
  {
   "cell_type": "code",
   "execution_count": 8,
   "metadata": {},
   "outputs": [
    {
     "name": "stdout",
     "output_type": "stream",
     "text": [
      "[1 2 3 4]\n"
     ]
    }
   ],
   "source": [
    "from numpy import array\n",
    "F = array([1,2,3,4])\n",
    "print(F)"
   ]
  },
  {
   "cell_type": "markdown",
   "metadata": {},
   "source": [
    "There are many good uses for both **tuples** and **arrays**, but we will defer working with them more until we need to take advantage of their properties. From here forward, we will work with lists, which are extremely versatile. They are also probably the most common type of data set you will encounter in Python.\n",
    "\n",
    "**Lists:** A list is a **mutable** set of \"items\" that are ordered, i.e., each entry has a unique index. Much like a tuple, the \"items\" in a list can include any type of scalar or any type of collection; however, a list is **mutable**, which means that we can change its contents after it is created. In Python, we define a list using brackets.  Some Examples for you to try in the cell below: \n",
    "\n",
    "    G = [1 ,2 ,3]\n",
    "    H = ['dog','cat','bat']\n",
    "    I = [[1.6, 2.7, 3.4], [4.4, 5.2, 6.8]]\n",
    "\n",
    "Here, G is a list of integers; H is a list of strings; and I is a list of lists, each of which is a list of floating point numbers. \n",
    "\n",
    "Alternatively, one can define a list using the following syntax: \n",
    "\n",
    "    J = list([1, 2, 3])  \n",
    "\n",
    "Define these lists in the cell below. Use print() to display each list, and use type() to check the class of each list. "
   ]
  },
  {
   "cell_type": "code",
   "execution_count": 11,
   "metadata": {},
   "outputs": [
    {
     "name": "stdout",
     "output_type": "stream",
     "text": [
      "[1, 2, 3] ['dog', 'cat', 'bat'] [[1.6, 2.7, 3.4], [4.4, 5.2, 6.8]]\n",
      "[1, 2, 3]\n",
      "<class 'list'> <class 'list'> <class 'list'> <class 'list'>\n"
     ]
    }
   ],
   "source": [
    "G = [1 ,2 ,3]\n",
    "H = ['dog','cat','bat']\n",
    "I = [[1.6, 2.7, 3.4], [4.4, 5.2, 6.8]]\n",
    "print(G,H,I)\n",
    "J = list([1,2,3])\n",
    "print(J)\n",
    "\n",
    "print(type(G),type(H),type(I),type(J))"
   ]
  },
  {
   "cell_type": "markdown",
   "metadata": {},
   "source": [
    "One of the most important properties of lists is that they are **mutable**. Again, this means that we can change the contents of a  list after it is first defined. This is similar to an array, but contrasts with tuples, which are **immutable**. \n",
    "\n",
    "What does mutability look like in practice?  Let's say I want to work with the list J that we defined above.  Upon closer inspection, I realize that the second element in J should be a 4, not a 2.  With a list, I can make this change easily:\n",
    "\n",
    "    print(J)\n",
    "    J[1] = 4\n",
    "    print(J)\n",
    "\n",
    "Execute these commands in the cell below to get a feel for how lists respond to manipulation."
   ]
  },
  {
   "cell_type": "code",
   "execution_count": 12,
   "metadata": {},
   "outputs": [
    {
     "name": "stdout",
     "output_type": "stream",
     "text": [
      "[1, 2, 3]\n",
      "[1, 4, 3]\n"
     ]
    }
   ],
   "source": [
    "print(J)\n",
    "J[1] = 4\n",
    "print(J)"
   ]
  },
  {
   "cell_type": "markdown",
   "metadata": {},
   "source": [
    "The base Python language has a large number of useful, built in methods for manipulating a list after it is created. We will use some in a series of examples here. To do this effectively, we really need to understand indexing in Python, so make sure you work through Assignment 1 in detail before proceeding.   \n",
    "\n",
    "Now it is time to introduce another fact-of-life in learning to program: In general, the language you are working in can probably accomplish whatever you need it to do. At the start, though, you are unaware of both what it can do and how to accomplish it. When you are trying to do something new, don't be afraid to search for \"How do I ___ in Python?\" You will be blown away by what the language can accomplish, but be prepared to parse online documentation, which is sometimes dense and computer science heavy - as you use the language more, you will get better at understanding the supporting documentation.\n",
    "\n",
    "With that preface, we will now look at some of the base Python tools for manipulating the contents of a list.  The general syntax for using these methods is:\n",
    "\n",
    "    listname.methodname()\n",
    "\n",
    "You can find a guide to these methods at the very awesome https://docs.python.org/3.8/tutorial/datastructures.html\n",
    "\n",
    "Here is just a basic example of the above \"listname.methodname()\" convention; we will use the append function to add the number 443 to the list called **J** that we previously modified. We will then sort J in ascending order.  We print the results of each manipulation. Enter the following commands to get a feel for how list methods work:\n",
    "\n",
    "    print(J)\n",
    "    J.append(443)\n",
    "    print(J)\n",
    "    J.sort()\n",
    "    print(J)\n",
    "\n",
    "**A word of caution:** As you will see in the cell below, each of these methods will modify a list in place, i.e., they change the contents of a list without you specifically redefining the list. Be careful with them because lists are mutable! "
   ]
  },
  {
   "cell_type": "code",
   "execution_count": 13,
   "metadata": {},
   "outputs": [
    {
     "name": "stdout",
     "output_type": "stream",
     "text": [
      "[1, 4, 3]\n",
      "[1, 4, 3, 443]\n",
      "[1, 3, 4, 443]\n"
     ]
    }
   ],
   "source": [
    "print(J)\n",
    "J.append(443)\n",
    "print(J)\n",
    "J.sort()\n",
    "print(J)"
   ]
  },
  {
   "cell_type": "markdown",
   "metadata": {},
   "source": [
    "OK, now lets take a closer look at indexing in lists.  Lists are not constrained to a single dimension.  Each element in a list might be another list...and perhaps that extends for multiple levels (a list of lists of lists). For example, if we print out the values in the list I, we will see that it is a 2 element list, and each element is itself a 3 element list:\n",
    "\n",
    "    print(I)\n",
    "    \n",
    "Let's say I want to extract the number 3.4 out of this list.  I would do so by referencing its index:  It is the 3rd element inside of the first list; therefore, I would call its value by typing:\n",
    "\n",
    "    I[0][2]\n",
    "\n",
    "It is also possible to use more complex slicing operations (see Assignment 1) on lists to extract parts of them.  For example,\n",
    "\n",
    "    I[1][:]\n",
    "\n",
    "will return all elements in the second list in I, and\n",
    "\n",
    "    I[0][1:3]\n",
    "    \n",
    "will return the second and third elements from the first list in I.\n",
    "\n",
    "peform each operation and print the results to the screen to confirm your intuition and to visualize how indexing works in a more complex list.\n",
    "\n"
   ]
  },
  {
   "cell_type": "code",
   "execution_count": 15,
   "metadata": {},
   "outputs": [
    {
     "name": "stdout",
     "output_type": "stream",
     "text": [
      "[[1.6, 2.7, 3.4], [4.4, 5.2, 6.8]]\n",
      "3.4\n",
      "[4.4, 5.2, 6.8]\n",
      "[2.7, 3.4]\n"
     ]
    }
   ],
   "source": [
    "print(I)\n",
    "print(I[0][2])\n",
    "print(I[1][:])\n",
    "print(I[0][1:3])"
   ]
  },
  {
   "cell_type": "markdown",
   "metadata": {},
   "source": [
    "A final tool that is worth demonstrating (but that has some underlying complexity that we haven't covered yet) is a list comprehension.  Let's say you want to create a large list of numbers that meet some criteria. For example, I need a list of the squares of all of the numbers between 1 and 745.  That's hard to do manually. It is even cumbersome in something like Excel.  In a programming languague, we might use a **for loop** to do this.  We will cover **for loops** in more detail later, but a list comprehension provides a shorthand syntax that  automates a **for loop** to generate a list from a desired operation in a single, simple line of code.  For our example above, I would create this list by typing:\n",
    "\n",
    "    squares = [x**2 for x in range(1,746)]\n",
    "    \n",
    "**Remember:** in base Python, the ^ operator you typically associate with power operations is undefined. Instead, you use ** to indicate raising something to a power.\n",
    "\n",
    "We will get into more specifics about the range function and for loops in a subsequent exercise.  For now, you will notice that the usage of range here is consistent with everything we have seen in Python thus far: it includes the first element (1) but it does not include the last element, so we go to 746. By default, range increments by 1, so this list computes:\n",
    "\n",
    "    1**2\n",
    "    2**2\n",
    "    3**2\n",
    "    4**2....\n",
    "    \n",
    "And so forth all the way up to\n",
    "\n",
    "    745**2\n",
    "\n",
    "\n",
    "Create this list in the cell below; print both the list and the square root of the last element using the command below to see if it behaved as we expect\n",
    "\n",
    "    print(squares[-1]**(1/2))\n",
    "    \n",
    "Notice how easily I am able to find the last element in this large list using negative indexing in Python."
   ]
  },
  {
   "cell_type": "code",
   "execution_count": 17,
   "metadata": {},
   "outputs": [
    {
     "name": "stdout",
     "output_type": "stream",
     "text": [
      "745.0\n"
     ]
    }
   ],
   "source": [
    "squares = [x**2 for x in range(1,746)]\n",
    "print(squares[-1]**(1/2))"
   ]
  },
  {
   "cell_type": "markdown",
   "metadata": {},
   "source": [
    "List comprehensions are extremely useful; they can quickly generate large lists by automating any simple operation on a range.  Create and print the lists below to see the outputs they create and get a feel for how list comprehensions work:\n",
    "\n",
    "    K = [n for n in range(0,31)]\n",
    "    L = [x for x in range(0,31,2)]\n",
    "    M = [p**3 for p in range(0,31,5)]\n",
    "    N = [2, 14, 64, 212, 123.6, 4.57 + 3j]\n",
    "    O = [j**2 for j in N]\n",
    "    \n",
    "In the last example, notice how we used an existing list to create the iterable that the list comprehension iterates over.  This is totally acceptable - it is a nice way to perform a simple operation on the values in one list to convert it into something else entirely."
   ]
  },
  {
   "cell_type": "code",
   "execution_count": 22,
   "metadata": {},
   "outputs": [
    {
     "name": "stdout",
     "output_type": "stream",
     "text": [
      "[0, 1, 2, 3, 4, 5, 6, 7, 8, 9, 10, 11, 12, 13, 14, 15, 16, 17, 18, 19, 20, 21, 22, 23, 24, 25, 26, 27, 28, 29, 30]\n",
      "[0, 2, 4, 6, 8, 10, 12, 14, 16, 18, 20, 22, 24, 26, 28, 30]\n",
      "[0, 125, 1000, 3375, 8000, 15625, 27000]\n",
      "[2, 14, 64, 212, 123.6, (4.57+3j)]\n",
      "[4, 196, 4096, 44944, 15276.96, (11.884900000000002+27.42j)]\n"
     ]
    }
   ],
   "source": [
    "K = [n for n in range(0,31)]\n",
    "L = [x for x in range(0,31,2)]\n",
    "M = [p**3 for p in range(0,31,5)]\n",
    "N = [2, 14, 64, 212, 123.6, 4.57 + 3j]\n",
    "O = [j**2 for j in N]\n",
    "print(K)\n",
    "print(L)\n",
    "print(M)\n",
    "print(N)\n",
    "print(O)\n"
   ]
  },
  {
   "cell_type": "markdown",
   "metadata": {},
   "source": [
    "Now that we are comfortable with lists, indexing lists, and using basic methods for manipulating the contents of lists, it is time to move on to some independent exercises; complete them for full XP!\n",
    "\n",
    "**Problem 1**\n",
    "\n",
    "You may find it helpful to consult https://docs.python.org/3.8/tutorial/datastructures.html\n",
    "\n",
    "Create a list called **numbers** that contains the integers 0, 8, 12, 3, and 4.  I highly encourage you to **not** print your results until the very last operation."
   ]
  },
  {
   "cell_type": "code",
   "execution_count": 29,
   "metadata": {},
   "outputs": [],
   "source": [
    "numbers = [0,8,12,3,4]"
   ]
  },
  {
   "cell_type": "markdown",
   "metadata": {},
   "source": [
    "Use the **sort()** method to arrange these integers in ascending order."
   ]
  },
  {
   "cell_type": "code",
   "execution_count": 30,
   "metadata": {},
   "outputs": [],
   "source": [
    "numbers.sort()"
   ]
  },
  {
   "cell_type": "markdown",
   "metadata": {},
   "source": [
    "Use the **append()** method to add 6 to the end of your list."
   ]
  },
  {
   "cell_type": "code",
   "execution_count": 31,
   "metadata": {},
   "outputs": [],
   "source": [
    "numbers.append(6)"
   ]
  },
  {
   "cell_type": "markdown",
   "metadata": {},
   "source": [
    "Use the **insert()** method to add a 5 at the front of your list."
   ]
  },
  {
   "cell_type": "code",
   "execution_count": 32,
   "metadata": {},
   "outputs": [],
   "source": [
    "numbers.insert(0,5)"
   ]
  },
  {
   "cell_type": "markdown",
   "metadata": {},
   "source": [
    "Use the **pop()** method to delete the 6th element in the list."
   ]
  },
  {
   "cell_type": "code",
   "execution_count": 33,
   "metadata": {},
   "outputs": [
    {
     "data": {
      "text/plain": [
       "12"
      ]
     },
     "execution_count": 33,
     "metadata": {},
     "output_type": "execute_result"
    }
   ],
   "source": [
    "numbers.pop(5)"
   ]
  },
  {
   "cell_type": "markdown",
   "metadata": {},
   "source": [
    "Use the **sort()** method again to arrange the elements of the list in descending order. Hint; you will need to add extra keyword arguments; see help documentation referenced above."
   ]
  },
  {
   "cell_type": "code",
   "execution_count": 34,
   "metadata": {},
   "outputs": [
    {
     "name": "stdout",
     "output_type": "stream",
     "text": [
      "None\n"
     ]
    }
   ],
   "source": [
    "numbers.sort()"
   ]
  },
  {
   "cell_type": "markdown",
   "metadata": {},
   "source": [
    "Use the **insert()** method to add a 7 in the 3rd position of your list."
   ]
  },
  {
   "cell_type": "code",
   "execution_count": 35,
   "metadata": {},
   "outputs": [],
   "source": [
    "numbers.insert(2,7)"
   ]
  },
  {
   "cell_type": "markdown",
   "metadata": {},
   "source": [
    "Use the **remove()** method to delete the first instance of 4 in your list."
   ]
  },
  {
   "cell_type": "code",
   "execution_count": 36,
   "metadata": {},
   "outputs": [],
   "source": [
    "numbers.remove(4)"
   ]
  },
  {
   "cell_type": "code",
   "execution_count": null,
   "metadata": {},
   "outputs": [],
   "source": []
  },
  {
   "cell_type": "markdown",
   "metadata": {},
   "source": [
    "Use the **insert()** method to add the string '-' to the 4th position of your list."
   ]
  },
  {
   "cell_type": "code",
   "execution_count": 37,
   "metadata": {},
   "outputs": [],
   "source": [
    "numbers.insert(3,'-')"
   ]
  },
  {
   "cell_type": "markdown",
   "metadata": {},
   "source": [
    "# Use the **append()** method to add 9 to your list."
   ]
  },
  {
   "cell_type": "code",
   "execution_count": 38,
   "metadata": {},
   "outputs": [],
   "source": [
    "numbers.append(9)"
   ]
  },
  {
   "cell_type": "markdown",
   "metadata": {},
   "source": [
    "Run the following command; if you did everything correctly, **Jenny** will know it. Submit your final answer to receive full XP and any badges associated with this problem.\n",
    "\n",
    "    digits = [str(i) for i in numbers]; print(''.join(digits))\n",
    "   "
   ]
  },
  {
   "cell_type": "code",
   "execution_count": 39,
   "metadata": {},
   "outputs": [
    {
     "name": "stdout",
     "output_type": "stream",
     "text": [
      "037-5689\n"
     ]
    }
   ],
   "source": [
    "digits = [str(i) for i in numbers]; print(''.join(digits))"
   ]
  },
  {
   "cell_type": "markdown",
   "metadata": {},
   "source": [
    "**Explanation**\n",
    "\n",
    "I don't like to drop mysterious, complicated-looking commands on you without telling you what they do and how they work, but this was the cleanest way I could think of to get a single string to print out in the way I wanted. I figured it might be nice to get a look at some of the potential of the language, even if it isn't immediately obvious how you would come up with that.  Now let's pop the hood and see how it works:\n",
    "\n",
    "You probably notice there is a list comprehension in here.  It is performing an operation on each element in the list called **numbers**, but the str() method is a new one.  It is a built in tool that converts a generic scalar into a string.  Here, I am using it to change the integers in numbers into strings; the hyphen in numbers is already a string, so it isn't affected. Next, you see a **;**.  This allows you to separate two commands and write them on a single line.  So, at a Python Console, the first command would be exectued, defining a new list called **digits**.  Then, we move to the right hand side of the **;**. Here, you see print(), which you are familiar with, but what I am asking it to print, **''.join(digits)** is new. The **join()** method takes all individual elements in a string and concatenates them into a single, new string while putting any desired spacer between each element. The spacing is specified in between the **''** just before the period in .join(digits). Here, I did not want to insert spaces, so I declared that by stating **''** (with no space between them) before join. Don't worry if you don't understand it fully right now - it is an example to show you some of the versatility of the language! It is only assignment 2, and we are already able to think about some of the amazing ways that we can use list comprehensions and base Python features."
   ]
  },
  {
   "cell_type": "markdown",
   "metadata": {},
   "source": [
    "**Problem 2**\n",
    "\n",
    "Create a list called **pure_fire** that includes the following strings: 'Andre 3000', 'Del the Funky Homosapien', 'Michael Render', 'Jamie Meline', 'Dave Burd', and 'Kendrick Lamar'.\n"
   ]
  },
  {
   "cell_type": "code",
   "execution_count": 40,
   "metadata": {},
   "outputs": [],
   "source": [
    "pure_fire = ['Andre 3000','Del the Funky Homosapien', 'Michael Render', 'Jamie Meline', 'Dave Burd', 'Kendrick Lamar']"
   ]
  },
  {
   "cell_type": "markdown",
   "metadata": {},
   "source": [
    "Create a list called **Serenity**. It should include the following strings: 'Malcolm', 'Wash', 'Kaylee', 'Inara', 'Jayne', 'Zoe', 'Badger', 'River', 'Simon', and 'Shepherd' "
   ]
  },
  {
   "cell_type": "code",
   "execution_count": 41,
   "metadata": {},
   "outputs": [],
   "source": [
    "Serenity = ['Malcolm', 'Wash', 'Kaylee', 'Inara', 'Jayne', 'Zoe', 'Badger', 'River', 'Simon', 'Shepherd']"
   ]
  },
  {
   "cell_type": "markdown",
   "metadata": {},
   "source": [
    "Use the **len()** function to determine how many elements are in each string. I know you can count, but for larger lists, you'll definitely want to use len()."
   ]
  },
  {
   "cell_type": "code",
   "execution_count": 43,
   "metadata": {},
   "outputs": [
    {
     "name": "stdout",
     "output_type": "stream",
     "text": [
      "10 6\n"
     ]
    }
   ],
   "source": [
    "print(len(Serenity), len(pure_fire))"
   ]
  },
  {
   "cell_type": "markdown",
   "metadata": {},
   "source": [
    "Concatenate pure_fire and Serenity (in that order) into a new list called **mashup** using the + operator "
   ]
  },
  {
   "cell_type": "code",
   "execution_count": 44,
   "metadata": {},
   "outputs": [],
   "source": [
    "mashup = pure_fire + Serenity"
   ]
  },
  {
   "cell_type": "markdown",
   "metadata": {},
   "source": [
    "Create a new list called **rap_western** wherein the first element is the *list* called **pure_fire** and the second element is the *list* called **Serenity**"
   ]
  },
  {
   "cell_type": "code",
   "execution_count": 45,
   "metadata": {},
   "outputs": [],
   "source": [
    "rap_western = [pure_fire, Serenity]"
   ]
  },
  {
   "cell_type": "markdown",
   "metadata": {},
   "source": [
    "**Interlude:** Print the contents of both **mashup** and **rap_western** to the screen using the cell below so that you can visualize their contents and how they are displayed. \n",
    "\n",
    "Take a moment to consider how the two are different.  Could you imagine a way to extract a single string from **mashup** based on its indices?  Would that be the same way you would extract a single string if you were working with **rap_western**?  Remember in assignment 1, we saw that the characters in a string are also indexed?  Could you imagine a way to extract single characters from the strings in these lists? "
   ]
  },
  {
   "cell_type": "code",
   "execution_count": 47,
   "metadata": {},
   "outputs": [
    {
     "name": "stdout",
     "output_type": "stream",
     "text": [
      "['Andre 3000', 'Del the Funky Homosapien', 'Michael Render', 'Jamie Meline', 'Dave Burd', 'Kendrick Lamar', 'Malcolm', 'Wash', 'Kaylee', 'Inara', 'Jayne', 'Zoe', 'Badger', 'River', 'Simon', 'Shepherd']\n",
      "    \n",
      "[['Andre 3000', 'Del the Funky Homosapien', 'Michael Render', 'Jamie Meline', 'Dave Burd', 'Kendrick Lamar'], ['Malcolm', 'Wash', 'Kaylee', 'Inara', 'Jayne', 'Zoe', 'Badger', 'River', 'Simon', 'Shepherd']]\n"
     ]
    }
   ],
   "source": [
    "print(mashup)\n",
    "print('    ')\n",
    "print(rap_western)"
   ]
  },
  {
   "cell_type": "markdown",
   "metadata": {},
   "source": [
    "You probably noticed that mashup is a simple list of strings, but  rap_western is a *list of lists of strings*. As we saw when first working with lists of lists, this changes how you interact with the list and its contents. For example, extracting the string 'Del the Funky Homosapien' from *mashup* would require me to type:\n",
    "\n",
    "    mashup[1]\n",
    "    \n",
    "whereas getting the same string from **rap_western** would require me to type\n",
    "\n",
    "    rap_western[0][1]\n",
    "    \n",
    "Try it in the cell below to make sure that it is working as you expect. Once you are done, with those two examples, then see if you can figure out how to extract 'Zoe' from both **mashup** and **rap_western**. Print the results to the screen to confirm that this string is located where you think it is."
   ]
  },
  {
   "cell_type": "code",
   "execution_count": 50,
   "metadata": {},
   "outputs": [
    {
     "name": "stdout",
     "output_type": "stream",
     "text": [
      "Zoe\n",
      "Zoe\n"
     ]
    }
   ],
   "source": [
    "print(mashup[11])\n",
    "print(rap_western[1][5])"
   ]
  },
  {
   "cell_type": "markdown",
   "metadata": {},
   "source": [
    "On to the question about extracting a single characer from any given string in these two data sets - it is entirely possible, and it provides another good example of dimensionality of lists and how you may need many indices to refer to a quantity inside of one.\n",
    "\n",
    "For example, if I wanted to pull the first letter from Mike's last name in **mashup**, I would type \n",
    "\n",
    "    mashup[2][8]\n",
    "    \n",
    "but if I was working with the data set in **rap_western**, I would have to grab the first letter of Mike's last name by referencing \n",
    "\n",
    "    rap_western[0][2][8]  \n",
    "\n",
    "Try these commands in the cell below to help build your understanding of how indexing works in complex lists.  Once you have the hang of it, now extract the **n** from the string 'Jayne' in mashup and rap_western."
   ]
  },
  {
   "cell_type": "code",
   "execution_count": 52,
   "metadata": {},
   "outputs": [
    {
     "name": "stdout",
     "output_type": "stream",
     "text": [
      "n\n",
      "n\n"
     ]
    }
   ],
   "source": [
    "print(mashup[10][3])\n",
    "print(rap_western[1][4][3])"
   ]
  },
  {
   "cell_type": "markdown",
   "metadata": {},
   "source": [
    "**Problem 3**\n",
    "\n",
    "Now that we have a handle on indexing lists of strings, let's play around with the data set in rap_western. You never know what we might find in there. \n",
    "\n",
    "Create a **list** called **cantina**. It should contain the strings in rap_western at the following positions (in this order):  \n",
    "\n",
    "    [0][1]\n",
    "    [0][3]\n",
    "    [0][5]\n",
    "    [1][1]\n",
    "    [1][4]\n",
    "    [1][5]\n",
    "    [1][6]\n",
    "    [1][8]\n",
    "    \n",
    "In the cell below, create and print **cantina** and think about how the indexing above generated this result."
   ]
  },
  {
   "cell_type": "code",
   "execution_count": 53,
   "metadata": {},
   "outputs": [
    {
     "name": "stdout",
     "output_type": "stream",
     "text": [
      "['Del the Funky Homosapien', 'Jamie Meline', 'Kendrick Lamar', 'Wash', 'Jayne', 'Zoe', 'Badger', 'Simon']\n"
     ]
    }
   ],
   "source": [
    "cantina = [rap_western[0][1],rap_western[0][3],rap_western[0][5],rap_western[1][1],rap_western[1][4],rap_western[1][5],rap_western[1][6],rap_western[1][8]]\n",
    "print(cantina)"
   ]
  },
  {
   "cell_type": "markdown",
   "metadata": {},
   "source": [
    "In **cantina**, get rid of the string that didn't belong in **Serenity** in the first place. \n",
    "\n",
    "If the string you need to delete isn't immediately obvious to you, you might have to do a bit of sleuthing to figure it out. I will give three hints that are progressively generous.  They are spaced out over the next few cells. Read only as far as you need to:\n",
    "<br>\n",
    "<br>\n",
    "<br>\n",
    "<br>\n",
    "<br>\n",
    "<br>\n",
    "<br>\n",
    "<br>\n",
    "<br>\n",
    "<br>\n",
    "<br>\n",
    "<br>\n",
    "<br>\n",
    "<br>\n",
    "<br>\n",
    "<br>"
   ]
  },
  {
   "cell_type": "markdown",
   "metadata": {},
   "source": [
    "***************\n",
    "<br>\n",
    "<br>\n",
    "<br>\n",
    "<br>\n",
    "\n",
    "**Hint Number 1:**\n",
    "\n",
    "Ask a nerd--***a legit nerd***--who is between the ages of 35 and 50 for some help. \n",
    "<br>\n",
    "<br>\n",
    "<br>\n",
    "<br>\n",
    "<br>\n",
    "<br>\n",
    "<br>\n",
    "<br>\n",
    "<br>\n",
    "<br>\n",
    "<br>\n",
    "<br>\n",
    "******************"
   ]
  },
  {
   "cell_type": "markdown",
   "metadata": {},
   "source": [
    "***************\n",
    "<br>\n",
    "<br>\n",
    "<br>\n",
    "<br>\n",
    "\n",
    "**Hint Number 2:**\n",
    "\n",
    "Serenity is the name of a spaceship, and *most* of the people on that list are crew members or passengers. \n",
    "<br>\n",
    "<br>\n",
    "<br>\n",
    "<br>\n",
    "<br>\n",
    "<br>\n",
    "<br>\n",
    "<br>\n",
    "<br>\n",
    "<br>\n",
    "<br>\n",
    "<br>\n",
    "******************"
   ]
  },
  {
   "cell_type": "markdown",
   "metadata": {},
   "source": [
    "***************\n",
    "<br>\n",
    "<br>\n",
    "<br>\n",
    "<br>\n",
    "\n",
    "**Hint Number 3:**\n",
    "\n",
    "A guy like Badger? He had no business setting foot on Serenity. \n",
    "<br>\n",
    "<br>\n",
    "<br>\n",
    "<br>\n",
    "<br>\n",
    "<br>\n",
    "<br>\n",
    "<br>\n",
    "<br>\n",
    "<br>\n",
    "<br>\n",
    "<br>\n",
    "******************"
   ]
  },
  {
   "cell_type": "code",
   "execution_count": 54,
   "metadata": {},
   "outputs": [
    {
     "name": "stdout",
     "output_type": "stream",
     "text": [
      "['Del the Funky Homosapien', 'Jamie Meline', 'Kendrick Lamar', 'Wash', 'Jayne', 'Zoe', 'Simon']\n"
     ]
    }
   ],
   "source": [
    "cantina.pop(6)\n",
    "print(cantina)"
   ]
  },
  {
   "cell_type": "markdown",
   "metadata": {},
   "source": [
    "Use sort() to arrange **cantina** in ascending order."
   ]
  },
  {
   "cell_type": "code",
   "execution_count": 56,
   "metadata": {},
   "outputs": [
    {
     "name": "stdout",
     "output_type": "stream",
     "text": [
      "['Del the Funky Homosapien', 'Jamie Meline', 'Jayne', 'Kendrick Lamar', 'Simon', 'Wash', 'Zoe']\n"
     ]
    }
   ],
   "source": [
    "cantina.sort()\n",
    "print(cantina)"
   ]
  },
  {
   "cell_type": "markdown",
   "metadata": {},
   "source": [
    "Extract and concatenate the following *characters* in what remains of **cantina** into a new string called **whodunit** \n",
    "\n",
    "The 15th character in the first string.<br>\n",
    "The second character in the third string.<br>\n",
    "The fourth character in the third string.<br>\n",
    "The fourth character in the first string.<br>\n",
    "Everything in the 6th string from the third character to the end of the string.<br>\n",
    "The fourth character in the fifth string.<br>\n",
    "From the first string, include the fifth character.<br>\n",
    "Characters 8 and 9 in the first string.<br>\n",
    "The fourth character in the second string.<br>\n",
    "In the fourth string, the 5th character is important.<br>\n",
    "In the first string, extract the 19th character.<br>\n",
    "The fifth character in the first string.<br>"
   ]
  },
  {
   "cell_type": "code",
   "execution_count": 57,
   "metadata": {},
   "outputs": [
    {
     "name": "stdout",
     "output_type": "stream",
     "text": [
      "Han shotFuirst\n"
     ]
    }
   ],
   "source": [
    "whodunit = cantina[0][14]+cantina[2][1]+cantina[2][3]+cantina[0][3]+cantina[5][2:]+cantina[4][3]+cantina[0][4]+cantina[0][8:10]+cantina[1][3]+cantina[3][4]+cantina[0][18]+cantina[0][4]\n",
    "print(whodunit)"
   ]
  },
  {
   "cell_type": "markdown",
   "metadata": {},
   "source": [
    "Print the result - if you did it correctly, you'll settle the greatest controversy in **Mos Eisley.**"
   ]
  },
  {
   "cell_type": "code",
   "execution_count": 58,
   "metadata": {},
   "outputs": [
    {
     "name": "stdout",
     "output_type": "stream",
     "text": [
      "Han Shot First!\n"
     ]
    }
   ],
   "source": [
    "print('Han shot First!')"
   ]
  },
  {
   "cell_type": "markdown",
   "metadata": {},
   "source": [
    "Submit your final answer to receive your XP and any badges associated with this problem."
   ]
  }
 ],
 "metadata": {
  "kernelspec": {
   "display_name": "Python 3",
   "language": "python",
   "name": "python3"
  },
  "language_info": {
   "codemirror_mode": {
    "name": "ipython",
    "version": 3
   },
   "file_extension": ".py",
   "mimetype": "text/x-python",
   "name": "python",
   "nbconvert_exporter": "python",
   "pygments_lexer": "ipython3",
   "version": "3.7.6"
  }
 },
 "nbformat": 4,
 "nbformat_minor": 4
}
