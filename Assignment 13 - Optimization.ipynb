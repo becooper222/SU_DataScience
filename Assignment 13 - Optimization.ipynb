{
 "cells": [
  {
   "cell_type": "markdown",
   "metadata": {},
   "source": [
    "# Optimization Part 1: Univariate Scalar Functions\n",
    "\n",
    "The general concept of \"optimization\" is one of the most important that you'll encounter in engineering.  Generally speaking, your goal in optimization is to maximize or minimize *something*, and the types of things you may want to maximize or minimize take many, many forms. But the basic concepts of optimization are relatively simple, and the strategy we use is always roughly the same. You will construct a model that predicts the value you are trying to optimize: let's call it a \"objective function\", though you may also hear it referred to as a \"loss function\" or a \"cost function\" in minimization problems. In general, we will let our \"objective function\" depend on multiple inputs, and our goal is to find the value(s) of those inputs that either minimize or maximize the value of our objective function.\n",
    "\n",
    "What are some concrete examples of things you might want to maximize or minimize? \n",
    "\n",
    "How about profit? The profit obtained by a process is typically a complex function of raw material costs, sale prices, volume sold, capital costs, and operating costs. A very common goal is to figure out the scale your process should operate at (i.e., what volume) in order to maximize profit.  This is an example of an objective function that we'd like to maximize by finding the volume that gives us the best balance of revenue and expenses.  It is not always evident what that solution is since objective functions can be very complex. Moreover, we may be bound by several constraints on the system--it might be essential that we supply at least 100,000 units to meet our current orders. There are many strategies for optimizing the value of an objective function, but here we will focus on using numerical methods to optimize nonlinear problems. If you need to optimize a linear system, consider taking a course in linear algebra and linear programming methods.\n",
    "\n",
    "Another example might be a new medical device - perhaps its overall cost to the patient is a complex function of size, materials and power supply...but you also have the constraint that you are providing the device for use in remote locations that don't have reliable access to medical care...so it needs to have a lifetime of at least 5 years because it cannot be replaced easily. You may need to minimize that cost by varying materials of construction, power supply, and size while still meeting the constraint that you can only replace it once every few years due to sparse availability of medical care in the area where you're working.\n",
    "\n",
    "These are just examples to get you thinking about how frequently we are looking to either minimize or maximize a function. Again, that objective function may represent the cost of your product, the profit from your technology, the toxicity of a drug, or almost any other quantity you might want to either minimize or maximize. \n",
    "\n",
    "Because this is such a common goal, optimization is an essential skill for anyone working with data analysis and modelling, and there is a nice suite of optimization tools already built into Python. To use them, all we really need to know is how to define an objective function and tweak our solver options. But first, we'll learn a little about how the methods work because it is always good to know what is under the hood. In this Assignment, we will focus on optimizing a value returned by a univariate *scalar* function, i.e., a model that has a single input and returns a single output."
   ]
  },
  {
   "cell_type": "markdown",
   "metadata": {},
   "source": [
    "## Locating extrema in a function\n",
    "\n",
    "Let's start with a basic idea: we are trying to find extrema (either a minimum or a maximum value) returned by a univariate scalar function. We already learned how to do this analytically in our calculus courses, right?  We just find where the derivative of our function is equal to zero!\n",
    "\n",
    "It's always nice to start out with a problem that we can solve analytically, so let's look at a cubic polynomial. \n",
    "\n",
    "$$y(x) = -1.6x^3 + 5x^2 + 8x - 23$$\n",
    "\n",
    "We know that we can expect, at most, 3 real roots for this polynomial, and we can expect at most 2 extrema (either maxima or minima). In the cell below, graph this function on the domain x = [-2.3, 4]; plot the x-axis to visualize the root locations, and find any roots in that domain using an algorithm of your choice from Assignment 12."
   ]
  },
  {
   "cell_type": "code",
   "execution_count": 9,
   "metadata": {},
   "outputs": [
    {
     "name": "stdout",
     "output_type": "stream",
     "text": [
      "The roots are:  -2.182772621499442 ,   1.9775344858601847 ,   3.330238135639248\n"
     ]
    },
    {
     "data": {
      "image/png": "[encoded data removed]",
      "text/plain": [
       "<Figure size 432x288 with 1 Axes>"
      ]
     },
     "metadata": {
      "needs_background": "light"
     },
     "output_type": "display_data"
    }
   ],
   "source": [
    "import numpy as np\n",
    "import pandas as pd\n",
    "import matplotlib.pyplot as plt\n",
    "import scipy.optimize as opt\n",
    "\n",
    "\n",
    "xplot = np.linspace(-2.3,4)\n",
    "xrange = [-3, 5]\n",
    "yrange = [0, 0]\n",
    "def y(x):\n",
    "    return -1.6*x**3 + 5*x**2 + 8*x - 23\n",
    "plt.plot(xplot,y(xplot))\n",
    "plt.plot(xrange,yrange,'k')\n",
    "print('The roots are: ',opt.newton(y,-2),',  ',opt.newton(y,1),',  ',opt.newton(y,3.5))"
   ]
  },
  {
   "cell_type": "markdown",
   "metadata": {},
   "source": [
    "According to my results, the roots of this function are x = -2.183, x = 1.978, and x = 3.330. From the graph, I can see clearly that these roots are entirely different from the locations of the extrema - the maxima and minima. This is just to drive home the point that root finding (Assignment 12) and optimization (this Assignment) are two entirely different things. Looking at the graph, I can see that there is a minimum somewhere around $x = -1$, where $y \\approx -25$ or so.  There is also a maximum somewhere around $x = 3$, where $y \\approx 3$. \n",
    "\n",
    "**Important Note:** These locations are what we refer to as *local minima* and *local maxima*.  They are the lowest and highest values in their immediate vicinity, but it is clear that if we consider the function at x < -2.23 and x > 4, we can find larger and smaller values of y. The absolute minimum and maximum value of a function would be referred to as *global optima*.  For this function, there are no global optima as the function increases continuously below x = -1 or so, and it decreases continuous above x = 3 or so.\n",
    "\n",
    "While a graphical analysis is usually informative, we can be more precise in our solution by finding the roots of the derivative of y(x), i.e., by solving:\n",
    "\n",
    "$$y^{\\prime}(x) = -4.8x^2 + 10x + 8 = 0$$\n",
    "\n",
    "Take your pick of solution method and solve this equation in the cell below."
   ]
  },
  {
   "cell_type": "code",
   "execution_count": 12,
   "metadata": {},
   "outputs": [
    {
     "name": "stdout",
     "output_type": "stream",
     "text": [
      "These are the roots of the derivative:  -0.617 ,  2.701\n"
     ]
    }
   ],
   "source": [
    "def dy(x):\n",
    "    return -4.8*x**2 + 10*x + 8\n",
    "print('These are the roots of the derivative: ',round(opt.newton(dy,-1),3),', ',round(opt.newton(dy,3),3))"
   ]
  },
  {
   "cell_type": "markdown",
   "metadata": {},
   "source": [
    "I find that the two roots of the $y^\\prime(x)$ are $x = -0.617$ and $x = 2.7$. At these locations $y^{\\prime}(x) = 0$. Further, I can evaluate the function here: $y(-0.617) = -25.66$ and $y(2.7) = 3.56$. To determine if it is a maximum or a minimum in calculus, we would consider the second derivative.  At $x = -0.617$, $y^{\\prime\\prime}(x) = 15.9$, which indicates that the slope is increasing so this is a local minimum. At $x = 2.7$, $y^{\\prime\\prime}(x) = -15.9$, which means the slope is decreasing at this point and we have a local maximum. This is consistent with our graphical analysis. \n",
    "\n",
    "Great! We've fully explored the analytical solution! Let's make sure our numerical methods match up. We'll start by writing our own optimization algorithm, which gives us some insight into how this works.  \n",
    "\n",
    "Newton was a super rad dude. So it's not surprising that he also has a method for finding the minimum of a function using an interative strategy. It is actually very similar to a Newton-Raphson iteration, except we use the first derivative and second derivative of the function instead of the first derivative and the function value. The general formula:\n",
    "\n",
    "$$x_{i+1} = x_i - \\frac{f^\\prime(x_i)}{f^{\\prime\\prime}(x_i)}$$\n",
    "\n",
    "Based on that expression, you can see that iterations will converge once the ***derivative*** of the function is zero, which is the criteria we typically look for in finding extrema in a function. In contrast, a Newton-Raphson root finding iteration converges when the ***function itself*** is zero.\n",
    "\n",
    "Similar to a Newton-Raphson algorithm, this Newton's method looks like something we could implement in a loop! We won't worry right now about finding a maximum or minimum specifically, just extrema in general. To do that, all we need to do is let the while loop proceed until our derivative value is close enough to zero that we are satisfied.  It may not be completely clear how to do this just yet, so we'll walk through this example together.  Just as a refresher, we'll use lambda functions to define the function itself (y), its first derivative (dy), and its second derivative (ddy):\n",
    "\n",
    "    y   = lambda x: -1.6*x**3 + 5*x**2 + 8*x - 23\n",
    "    dy  = lambda x: -3*1.6*x**2 + 10*x + 8\n",
    "    ddy = lambda x: -2*3*1.6*x + 10\n",
    "\n",
    "But note, you can also use the long form function definitions using the def keyword:  there is nothing magic about a lambda function other than convenience!  Now for the loop:\n",
    "\n",
    "    x = 100.0\n",
    "    while abs(dy(x)) > 1e-8:\n",
    "        print(round(x,4), round(y(x),4), round(dy(x),4))\n",
    "        x = x - dy(x)/ddy(x)   \n",
    "    \n",
    "Go ahead and run this for a couple of initial guesses and watch the algorithm find the extrema in this function."
   ]
  },
  {
   "cell_type": "code",
   "execution_count": 14,
   "metadata": {},
   "outputs": [
    {
     "name": "stdout",
     "output_type": "stream",
     "text": [
      "-5 262.0 -162.0\n",
      "-2.2069 0.8943 -37.4468\n",
      "-1.0061 -24.3578 -6.9206\n",
      "-0.6541 -25.6458 -0.5949\n",
      "-0.6176 -25.6567 -0.0064\n",
      "-0.6172 -25.6567 -0.0\n"
     ]
    }
   ],
   "source": [
    "y   = lambda x: -1.6*x**3 + 5*x**2 + 8*x - 23\n",
    "dy  = lambda x: -3*1.6*x**2 + 10*x + 8\n",
    "ddy = lambda x: -2*3*1.6*x + 10\n",
    "\n",
    "x = -5\n",
    "while abs(dy(x)) > 1e-8:\n",
    "    print(round(x,4), round(y(x),4), round(dy(x),4))\n",
    "    x = x - dy(x)/ddy(x)"
   ]
  },
  {
   "cell_type": "markdown",
   "metadata": {},
   "source": [
    "If you want an extra visualization of its progress, you can add the bit of code from Assignment 12, which will illustrate the progress made on each iteration:\n",
    "\n",
    "    import numpy as np\n",
    "    import scipy.optimize as opt\n",
    "    import matplotlib.pyplot as plt\n",
    "    import time #I'm using this package to put a pause in the loop below\n",
    "\n",
    "    y   = lambda x: -1.6*x**3 + 5*x**2 + 8*x - 23\n",
    "    dy  = lambda x: -3*1.6*x**2 + 10*x + 8\n",
    "    ddy = lambda x: -2*3*1.6*x + 10\n",
    "\n",
    "    xrange = [-3, 4]\n",
    "    yrange = [0, 0]\n",
    "    xplot  = np.linspace(xrange[0], xrange[1], 10000)\n",
    "    yplot  = y(xplot)\n",
    "\n",
    "    x = -3\n",
    "    xlist = []\n",
    "    ylist = []\n",
    "    while abs(dy(x)) > 1e-8:\n",
    "        xlist.append(x)\n",
    "        ylist.append(y(x))\n",
    "        plt.plot(xplot,yplot,'k',LineWidth = 1)\n",
    "        plt.plot(xrange,yrange,':',LineWidth = 1)\n",
    "        plt.scatter(xlist, ylist, color = 'r', marker = 'o')\n",
    "        plt.show()\n",
    "        print(round(x,4), round(y(x),4), round(dy(x),4))\n",
    "        time.sleep(2) #Add a 2 second pause before going on to next iteration\n",
    "        x = x - dy(x)/ddy(x)"
   ]
  },
  {
   "cell_type": "code",
   "execution_count": 15,
   "metadata": {},
   "outputs": [
    {
     "data": {
      "image/png": "[encoded data removed]",
      "text/plain": [
       "<Figure size 432x288 with 1 Axes>"
      ]
     },
     "metadata": {
      "needs_background": "light"
     },
     "output_type": "display_data"
    },
    {
     "name": "stdout",
     "output_type": "stream",
     "text": [
      "-3 41.2 -65.2\n"
     ]
    },
    {
     "data": {
      "image/png": "[encoded data removed]",
      "text/plain": [
       "<Figure size 432x288 with 1 Axes>"
      ]
     },
     "metadata": {
      "needs_background": "light"
     },
     "output_type": "display_data"
    },
    {
     "name": "stdout",
     "output_type": "stream",
     "text": [
      "-1.3196 -21.1736 -13.5542\n"
     ]
    },
    {
     "data": {
      "image/png": "[encoded data removed]",
      "text/plain": [
       "<Figure size 432x288 with 1 Axes>"
      ]
     },
     "metadata": {
      "needs_background": "light"
     },
     "output_type": "display_data"
    },
    {
     "name": "stdout",
     "output_type": "stream",
     "text": [
      "-0.7216 -25.568 -1.7162\n"
     ]
    },
    {
     "data": {
      "image/png": "[encoded data removed]",
      "text/plain": [
       "<Figure size 432x288 with 1 Axes>"
      ]
     },
     "metadata": {
      "needs_background": "light"
     },
     "output_type": "display_data"
    },
    {
     "name": "stdout",
     "output_type": "stream",
     "text": [
      "-0.6203 -25.6567 -0.0493\n"
     ]
    },
    {
     "data": {
      "image/png": "[encoded data removed]",
      "text/plain": [
       "<Figure size 432x288 with 1 Axes>"
      ]
     },
     "metadata": {
      "needs_background": "light"
     },
     "output_type": "display_data"
    },
    {
     "name": "stdout",
     "output_type": "stream",
     "text": [
      "-0.6172 -25.6567 -0.0\n"
     ]
    }
   ],
   "source": [
    "import numpy as np\n",
    "import scipy.optimize as opt\n",
    "import matplotlib.pyplot as plt\n",
    "import time #I'm using this package to put a pause in the loop below\n",
    "\n",
    "y   = lambda x: -1.6*x**3 + 5*x**2 + 8*x - 23\n",
    "dy  = lambda x: -3*1.6*x**2 + 10*x + 8\n",
    "ddy = lambda x: -2*3*1.6*x + 10\n",
    "\n",
    "xrange = [-3, 4]\n",
    "yrange = [0, 0]\n",
    "xplot  = np.linspace(xrange[0], xrange[1], 10000)\n",
    "yplot  = y(xplot)\n",
    "\n",
    "x = -3\n",
    "xlist = []\n",
    "ylist = []\n",
    "while abs(dy(x)) > 1e-8:\n",
    "    xlist.append(x)\n",
    "    ylist.append(y(x))\n",
    "    plt.plot(xplot,yplot,'k',LineWidth = 1)\n",
    "    plt.plot(xrange,yrange,':',LineWidth = 1)\n",
    "    plt.scatter(xlist, ylist, color = 'r', marker = 'o')\n",
    "    plt.show()\n",
    "    print(round(x,4), round(y(x),4), round(dy(x),4))\n",
    "    time.sleep(2) #Add a 2 second pause before going on to next iteration\n",
    "    x = x - dy(x)/ddy(x)"
   ]
  },
  {
   "cell_type": "markdown",
   "metadata": {},
   "source": [
    "As with root finding in the last exercise, I don't recommend we write our own minimization routines outside of doing so to learn more about how they work. In general, it can be difficult to get optimization routines to converge rapidly and stably, and more sophisticated methods are available in the Scipy.optimize package. \n",
    "\n",
    "https://docs.scipy.org/doc/scipy/reference/optimize.html\n",
    "\n",
    "**Important Note:** Our very simple Newton method above found extrema without distinguishing between maxima and minima.  It was only looking for a place where the derivative = 0. Scipy optimization algorithms will always *minimize* your objective function.  If you want to *maximize* a function, you'll have to multiply your objective function by -1.  \n",
    "\n",
    "The usage for scipy optimization algorithms is very similar to what we learned with root finding for scalar functions.  Let's start with the most basic option:  minimizing a univariate, scalar function, i.e., the case we are currently considering:\n",
    "\n",
    "$$y(x) = -1.6x^3 + 5x^2 + 8x - 23$$\n",
    "\n",
    "Since y(x) is univariate, we are really just looking for the value of x where y is at a minimum. If all you need to do is find a local minimum in a univariate function, you can use *minimize_scalar*. It has a very small set of minimum inputs: you only need to provide it with the function, and it will return a local minimum.\n",
    "\n",
    "    opt.minimize_scalar(function_name)\n",
    "    \n",
    "Here we just run:\n",
    "\n",
    "    opt.minimize_scalar(y)\n",
    "    \n",
    "For this very simple minimization, you should see that it returns both our minimum x location and the minimum function value.  You can consult the scipy docs above for options that you can provide to opt.minimze_scalar; most of them are passed using keyword arguments as we did with opt.newton, opt.brent, etc."
   ]
  },
  {
   "cell_type": "code",
   "execution_count": 16,
   "metadata": {},
   "outputs": [
    {
     "data": {
      "text/plain": [
       "     fun: -25.656739046884304\n",
       "    nfev: 15\n",
       "     nit: 11\n",
       " success: True\n",
       "       x: -0.6171691124890302"
      ]
     },
     "execution_count": 16,
     "metadata": {},
     "output_type": "execute_result"
    }
   ],
   "source": [
    "opt.minimize_scalar(y)"
   ]
  },
  {
   "cell_type": "markdown",
   "metadata": {},
   "source": [
    "All of these optimization routines will return some type of solution structure, where each component can be accessed using a dot operator.  For example, if I run\n",
    "\n",
    "    sol = opt.mimimize_scalar(y)\n",
    "    \n",
    "It will store that solution structure in sol (an arbitrary name).  I can then access the function value (fun), the number of function evaluations (nfev), the number of iterations (11), the convergence status (success), and the value of x at the minimum (x) using the following notation:\n",
    "\n",
    "    sol.fun\n",
    "    sol.nfev\n",
    "    sol.nit\n",
    "    sol.success\n",
    "    sol.x"
   ]
  },
  {
   "cell_type": "code",
   "execution_count": 20,
   "metadata": {},
   "outputs": [
    {
     "data": {
      "text/plain": [
       "-0.6171691124890302"
      ]
     },
     "execution_count": 20,
     "metadata": {},
     "output_type": "execute_result"
    }
   ],
   "source": [
    "sol = opt.minimize_scalar(y)\n",
    "sol.fun\n",
    "sol.nfev\n",
    "sol.nit\n",
    "sol.success\n",
    "sol.x"
   ]
  },
  {
   "cell_type": "markdown",
   "metadata": {},
   "source": [
    "Digging a bit deeper into packages available in **Scipy**, the *opt.minimize* function is a more general routine. It will allow you to minimize either univariate or *multivariate* scalar functions. What that means is a function that has multiple inputs but only a single output. We'll cover how to work through minimization of multivarariate functions in the next Assignment. For now, we'll stick with minimizing our simple cubic function, y(x), to get a feel for the different syntax between opt.minimize_scalar and opt.minimize. At a minimum (no pun intended), opt.minimize usually requires us to provide the function name and an initial guess at the variable values where we expect to find a minimum:\n",
    "\n",
    "    opt.minimize(function_name, initial_guess_for_optimum_location)\n",
    "\n",
    "For this example, we'll minimize the function y and we'll specify that we think x = -1 is a reasonable guess for the x location of the minimum in y(x):\n",
    "\n",
    "    opt.minimize(y,-1)\n",
    "    \n",
    "This command will run opt.minimize with a default optimization algorithm (either BFGS, L-BFGS-B, or SLSQP depending on the specific nature of the problem) starting at an initial guess of -1 to find the minimum value of y."
   ]
  },
  {
   "cell_type": "code",
   "execution_count": 21,
   "metadata": {},
   "outputs": [
    {
     "data": {
      "text/plain": [
       "      fun: -25.656739046884304\n",
       " hess_inv: array([[1]])\n",
       "      jac: array([2.38418579e-07])\n",
       "  message: 'Optimization terminated successfully.'\n",
       "     nfev: 9\n",
       "      nit: 1\n",
       "     njev: 3\n",
       "   status: 0\n",
       "  success: True\n",
       "        x: array([-0.6171691])"
      ]
     },
     "execution_count": 21,
     "metadata": {},
     "output_type": "execute_result"
    }
   ],
   "source": [
    "opt.minimize(y,-1)"
   ]
  },
  {
   "cell_type": "markdown",
   "metadata": {},
   "source": [
    "As your optimization problems get more difficult, you may find that default solvers do not perform well, and it may be necessary to test a new algorithm. Selecting the right algorithm is actually a pretty advanced topic, one that is far beyond the scope of this short course, but be aware that each algorithm will use different methods that are often suited to a specific type of problem.  Regardless, once you decide on the algorithm you want to use, it is very easy to change with a keyword argument.  For example, to repeate the minimization above with a Nelder-Mead algorithm:\n",
    "\n",
    "    opt.minimize(y, -1, method = 'Nelder-Mead')"
   ]
  },
  {
   "cell_type": "code",
   "execution_count": 22,
   "metadata": {},
   "outputs": [
    {
     "data": {
      "text/plain": [
       " final_simplex: (array([[-0.6171875 ],\n",
       "       [-0.61708984]]), array([-25.65673904, -25.656739  ]))\n",
       "           fun: -25.656739044189454\n",
       "       message: 'Optimization terminated successfully.'\n",
       "          nfev: 28\n",
       "           nit: 14\n",
       "        status: 0\n",
       "       success: True\n",
       "             x: array([-0.6171875])"
      ]
     },
     "execution_count": 22,
     "metadata": {},
     "output_type": "execute_result"
    }
   ],
   "source": [
    "opt.minimize(y, -1, method = 'Nelder-Mead')"
   ]
  },
  {
   "cell_type": "markdown",
   "metadata": {},
   "source": [
    "You may find that some algorithms require additional inputs, similar to a Newton-Raphson algorithm needing a derivative input in the root finding assignment. For example, the *dogleg* algorithm requires you to provide the *Jacobian*, which is the set of partial deriviatives of the objective function with respect to each one of its arguments (e.g., \"x\" in this case), and the *Hessian*, which is the set of second partial derivatives of the objective function with respect to each of its arguments. For a simple univariate scalar function like this, the Jacobian is just the derivative $y^{\\prime}(x)$, and the Hessian is just the second derivative $y^{\\prime\\prime}(x)$. Don't get used to that level of simplicity. More commonly, we will use numerical optimization routines on multivariate functions, and Jacobians and Hessians are generally going to be vector functions for multivariate objectives.  \n",
    "\n",
    "For this example, to give you a feel for how to add more options, we are also adding the options keyword argument, which takes name : value pairs in a dictionary.  Here, I'm using it to turn on the display of results for intermediate iterations (not just the final output).\n",
    "\n",
    "    opt.minimize(y, -1, method = 'dogleg', jac = dy, hess = ddy, options = {'disp' : True})"
   ]
  },
  {
   "cell_type": "code",
   "execution_count": 31,
   "metadata": {},
   "outputs": [
    {
     "name": "stdout",
     "output_type": "stream",
     "text": [
      "Optimization terminated successfully.\n",
      "         Current function value: -25.656739\n",
      "         Iterations: 3\n",
      "         Function evaluations: 4\n",
      "         Gradient evaluations: 4\n",
      "         Hessian evaluations: 3\n"
     ]
    },
    {
     "data": {
      "text/plain": [
       "     fun: array([-25.65673905])\n",
       "    hess: array([15.92482381])\n",
       "     jac: array([-6.93231542e-07])\n",
       " message: 'Optimization terminated successfully.'\n",
       "    nfev: 4\n",
       "    nhev: 3\n",
       "     nit: 3\n",
       "    njev: 4\n",
       "  status: 0\n",
       " success: True\n",
       "       x: array([-0.61716915])"
      ]
     },
     "execution_count": 31,
     "metadata": {},
     "output_type": "execute_result"
    }
   ],
   "source": [
    "opt.minimize(y, -1, method = 'dogleg', jac = dy, hess = ddy, options = {'disp' : True})"
   ]
  },
  {
   "cell_type": "markdown",
   "metadata": {},
   "source": [
    "There are two more useful things to add into optimization routines: bounds and constraints. **Bounds** are strict limits on the actual values of the arguments that we are minimizing with respect to. These are straightforward to add into an optimization function in Python by using the bounds keyword, which generally takes the form of pairs of lower bounds and upper bounds in a tuple. \n",
    "\n",
    "For instance, if we wanted to find the local minimum of y(x) on the domain x = [0, 1], we could do so by specifying upper and lower bounds on x in line when we call opt.minimize:\n",
    "\n",
    "    opt.minimize(y, -1, bounds = [(0,1)])\n",
    "    \n",
    "In the general opt.minimize syntax each tuple in the \"bounds\" keyword argument is a pair of (lower bound, upper bound) for the variable that you're optimizing. In the above example, I want to only search for a minimum between x = 0 and x = 1, so I set the bounds accordingly. You'll see this finds the minimum value of y on the specified domain, which is y = -23 at x = 0. This is not the same as the local minimum over the full domain we are considering because we have prevented x from going below 0 by setting bounds on it.  Why might this be useful? Let's say x is a physical quantity like mass, concentration, or temperature, where a negative value is the mathematically correct solution, but it is physically impossible to attain.  In these cases, you may want to impose a bound on that variable, and you can do so easily with the bounds keyword.  \n",
    "\n",
    "**Note**: The above syntax for the bounds keyword seems pretty universal for opt.minimize as well as the global optimization methods we'll cover later in the worksheet. There may be a little flexibility in how you specify bounds for a particular routine, so double check the documentation to make sure your syntax is correct and doing what you want it to do."
   ]
  },
  {
   "cell_type": "markdown",
   "metadata": {},
   "source": [
    "Before we move on to a more complex problem with constraints, try a few things with our original cubic equation y(x):\n",
    "\n",
    "1. Minimize y(x) using the Powell algorithm.\n",
    "2. Minimize y(x) using the trust-krylov algorithm\n",
    "3. Minimize y(x) using the SLSQP algorithm but place a lower bound of 1 on x.\n",
    "4. Minimize y(x) using the BFGS method; set the tolerance to 1e-8; set the max iterations to 1000, and turn the display on."
   ]
  },
  {
   "cell_type": "code",
   "execution_count": 52,
   "metadata": {},
   "outputs": [
    {
     "name": "stdout",
     "output_type": "stream",
     "text": [
      "Optimization terminated successfully.\n",
      "         Current function value: -25.656739\n",
      "         Iterations: 2\n",
      "         Function evaluations: 12\n",
      "         Gradient evaluations: 4\n"
     ]
    },
    {
     "data": {
      "text/plain": [
       "      fun: -25.656739046884304\n",
       " hess_inv: array([[0.05629866]])\n",
       "      jac: array([0.])\n",
       "  message: 'Optimization terminated successfully.'\n",
       "     nfev: 12\n",
       "      nit: 2\n",
       "     njev: 4\n",
       "   status: 0\n",
       "  success: True\n",
       "        x: array([-0.61716911])"
      ]
     },
     "execution_count": 52,
     "metadata": {},
     "output_type": "execute_result"
    }
   ],
   "source": [
    "#opt.minimize(y,-1,method = 'Powell')\n",
    "#opt.minimize(y,-1,method='trust-krylov', jac = dy, hess = ddy)\n",
    "#opt.minimize(y,-1,method='SLSQP', jac=None, bounds=[(1,5)], constraints=(), tol=None, callback=None)\n",
    "opt.minimize(y,-1,method='BFGS',tol=1e-8,options={'disp':True,'maxiter':1000})"
   ]
  },
  {
   "cell_type": "markdown",
   "metadata": {},
   "source": [
    "Next, we may have a more complex **constraint** on our system that we cannot handle by simply bounding the variables. We typically encounter two types: equality constraints, and inequality constraints.  We'll go through a simple example that illustrates both types of constraints, just to see how they work and how their syntax is almost interchangeable.\n",
    "\n",
    "Let's say for the sake of argument that I captain a rogue Firefly class cargo ship named *Serenity*. My crew and I are moving a herd of cattle off of Persephone and out to The Rim Planets for Sir Warrick.  Our cut on the job is 30% of the total sale price of the cattle, which sell for 8000 credits per head. However, each additional cow has a dramatic impact on my fuel economy. My fuel costs come to $100 \\times \\textrm{cows}^2$ credits. In addition, I have to pay a bribe to a crooked Alliance customs agent to get the cattle off of Persephone in the first place. The bribe cost can be modeled as a decaying exponential function, $(500\\cdot e^\\left(\\textrm{-cows*0.5}\\right) + 32)\\cdot \\textrm{cows}$.  It would be reasonble for me to create the following objective function, which returns my negative profit as a univariate function of cows: \n",
    "\n",
    "    def obj(cows):\n",
    "        Revenue = 0.3*8000*cows\n",
    "        Fuel    = 100*cows**2\n",
    "        Bribe   = (500*np.exp(-cows*0.5) + 32)*cows\n",
    "        Profit  = Revenue - Fuel - Bribe\n",
    "        objective = - Profit\n",
    "        return objective\n",
    "\n",
    "Recall that Scipy optimization routines will minimize your objective function.  I want to maximize profit, so I am returning its negative in this objective.\n",
    "\n",
    "I'm going to make an initial guess (complete wild guess here) that 16 cows will net me maximum profit. For some insight, I arrived at this number because I think that is about how many cows Malcolm Reynolds took onto Serenity in the Firefly Episode \"Shindig.\"  \n",
    "\n",
    "From there, we'll start the optimization routine and see what we get:\n",
    "\n",
    "    sol = opt.minimize(obj, 16)\n",
    "    print(sol.x)\n",
    "    print(obj(np.floor(sol.x))) # np.floor rounds down to nearest integer\n",
    "    print(obj(np.ceil(sol.x)))  #np.ceiling rounds up to nearest integer\n",
    "\n",
    "As formulated, you can easily minimize this objective using any of the above approaches; I show a basic, unbounded, unconstrained optimization above. It may be of interest to print out values of Revenue, Fuel Costs, Bribe Costs, and Profit to get a feel for how the optimization responds to various changes."
   ]
  },
  {
   "cell_type": "code",
   "execution_count": 53,
   "metadata": {},
   "outputs": [
    {
     "name": "stdout",
     "output_type": "stream",
     "text": [
      "[11.8726013]\n",
      "[-13925.52275709]\n",
      "[-14001.12748694]\n"
     ]
    }
   ],
   "source": [
    "def obj(cows):\n",
    "    Revenue = 0.3*8000*cows\n",
    "    Fuel    = 100*cows**2\n",
    "    Bribe   = (500*np.exp(-cows*0.5) + 32)*cows\n",
    "    Profit  = Revenue - Fuel - Bribe\n",
    "    objective = - Profit\n",
    "    return objective\n",
    "sol = opt.minimize(obj,16)\n",
    "print(sol.x)\n",
    "print(obj(np.floor(sol.x))) \n",
    "print(obj(np.ceil(sol.x)))"
   ]
  },
  {
   "cell_type": "markdown",
   "metadata": {},
   "source": [
    "I find that moving 12 cows from Persephone to The Rim will earn us a net profit of 14001 credits.  The true optimum is actually something like 11.8, but you can only get 8000 credits for an integer cow.  12 is slightly more profitable than 11, so we take 12.\n",
    "\n",
    "Now for the constraint: Our crooked Alliance contact informs us that he will accept no less than 700 credits for his bribe to allow us to move the cattle off of Persephone without going through customs: he is taking on a lot of risk to look the other way while we smuggle cattle. That right there? Just the kind of inequality constraint we were talking about.\n",
    "\n",
    "$$\\textrm{Bribe} \\geqslant 700$$\n",
    "\n",
    "In Scipy's constrained optimization packages, specifying constraints is a little non-intuitive, but you get used to it.  We'll go through a basic implementation with only the core requirements.  We add constraints to our optimization function call using the constraints keyword argument. Constraints are formulated as dictionaries that have the following format:\n",
    "\n",
    "    constraint_dictionary = {'type' : constraint_type, 'fun' : function_name}\n",
    "\n",
    "The 'type' key is used to declare whether a constraint is an equality ('eq') or an inequality ('ineq'). The 'fun' key is used to declare the function that specifies your constraint. If it is an inequality constraint, your function is forced to be non-negative.  If it is an equality constraint, your function is forced to equal zero.  \n",
    "\n",
    "You can stack as many constraints as you want into the constraint keyword using the following convention:\n",
    "\n",
    "    constraints = (constraint1_dictionary, constraint2_dictionary, constraint3_dictionary, etc)\n",
    "\n",
    "In this case, we have a single inequality constraint:  the Alliance contact won't accept a bribe of less than 700 credits; we can formulate that as a function:\n",
    "\n",
    "    constraintfun1 = lambda cows: (500*np.exp(-cows*0.5) + 32)*cows - 700\n",
    "\n",
    "That constraint function evaluates the total bribe and subtracts 700 from it.  Adding it to the optimization routine will ensure that \n",
    "\n",
    "$$\\textrm{Bribe} - 700 \\geqslant 0$$\n",
    "\n",
    "We will use this constraint function to build a constraint dictionary that we can then add to our optimization routine. The type of constraint is, again, an inequality.\n",
    "\n",
    "    constraint_dictionary = {'type' : 'ineq' , 'fun' : constraintfun1}\n",
    "\n",
    "We then add this constraint_dictionary to our optimization routine as shown below; we'll use SLSQP since it is a constrained optimization algorithm that takes either inequality or equality constraints. **Important** only the SLSQP, COBYLA, and trust-constr algorithms accept constraints.\n",
    "\n",
    "    opt.minimize(obj, 20, method = 'SLSQP', constraints = (constraint_dictionary))"
   ]
  },
  {
   "cell_type": "code",
   "execution_count": 55,
   "metadata": {},
   "outputs": [
    {
     "data": {
      "text/plain": [
       "     fun: -3960.4686595970297\n",
       "     jac: array([2005.69265747])\n",
       " message: 'Optimization terminated successfully.'\n",
       "    nfev: 16\n",
       "     nit: 4\n",
       "    njev: 4\n",
       "  status: 0\n",
       " success: True\n",
       "       x: array([21.86890639])"
      ]
     },
     "execution_count": 55,
     "metadata": {},
     "output_type": "execute_result"
    }
   ],
   "source": [
    "constraintfun1 = lambda cows: (500*np.exp(-cows*0.5) + 32)*cows - 700\n",
    "constraint_dictionary = {'type' : 'ineq' , 'fun' : constraintfun1}\n",
    "opt.minimize(obj, 20, method = 'SLSQP', constraints = (constraint_dictionary))"
   ]
  },
  {
   "cell_type": "markdown",
   "metadata": {},
   "source": [
    "Ouch! That really cuts into our profit! We meet the constraint if we move 21.8 cows, but of course that rounds up to 22, where we find our total profit comes down to about 3696 credits.\n",
    "\n",
    "In this situation, the only reasonable thing to do is ask Jayne Cobb to *talk* to the Alliance contact.  After the conversation, the contact agrees to accept a bribe cost of exactly 500 credits.  While there are other ways that we could build this change into our model (saying explicitly Bribe = 500 being the best), I'll illustrate how to do this by a simple change in our constraint equation.  We will change it to an equality constraint, and we will write it so that it evaluates to zero:\n",
    "\n",
    "    constraintfun2 = lambda cows: (500*np.exp(-cows*0.5) + 32)*cows - 500\n",
    "    constraint_dictionary = {'type' : 'eq' , 'fun' : constraintfun2}\n",
    "    opt.minimize(obj, 15, method = 'SLSQP', constraints = (constraint_dictionary))"
   ]
  },
  {
   "cell_type": "code",
   "execution_count": 56,
   "metadata": {},
   "outputs": [
    {
     "data": {
      "text/plain": [
       "     fun: -12659.7918023667\n",
       "     jac: array([734.89135742])\n",
       " message: 'Optimization terminated successfully.'\n",
       "    nfev: 16\n",
       "     nit: 4\n",
       "    njev: 4\n",
       "  status: 0\n",
       " success: True\n",
       "       x: array([15.52165898])"
      ]
     },
     "execution_count": 56,
     "metadata": {},
     "output_type": "execute_result"
    }
   ],
   "source": [
    "constraintfun2 = lambda cows: (500*np.exp(-cows*0.5) + 32)*cows - 500\n",
    "constraint_dictionary = {'type' : 'eq' , 'fun' : constraintfun2}\n",
    "opt.minimize(obj, 15, method = 'SLSQP', constraints = (constraint_dictionary))"
   ]
  },
  {
   "cell_type": "markdown",
   "metadata": {},
   "source": [
    "OK, not too bad! If we move 15.5 (rounded up to 16) cows to The Rim, we clear 12285 credits in profit without any hassle from customs on Persephone!  Thanks Jayne!\n",
    "\n",
    "In a nutshell, that is how you use constrained optimization routines to simulate the Cattle Smuggling episode from *Firefly*."
   ]
  },
  {
   "cell_type": "code",
   "execution_count": null,
   "metadata": {},
   "outputs": [],
   "source": []
  },
  {
   "cell_type": "markdown",
   "metadata": {},
   "source": [
    "As a final example, we want to talk about finding global optima in a function that may have many local optima.  Generally speaking, the higher dimensional your optimization problem becomes (i.e., the more parameters you are trying to fit), the more likely you are to have many, many local minima.  But what you are actually interested in is a global minimum...and these can be very difficult to find.  As a simple example, we'll look at a univariate function of x that has many local minima but only one global minimum:\n",
    "\n",
    "$$k(x) =  \\frac{\\sin (10 \\pi x)}{2x} + \\left(x - 1\\right)^4$$\n",
    "\n",
    "Plot the function on the domain $x = [0.5, 2.5]$; see for yourself!"
   ]
  },
  {
   "cell_type": "code",
   "execution_count": 59,
   "metadata": {},
   "outputs": [
    {
     "data": {
      "text/plain": [
       "[<matplotlib.lines.Line2D at 0x15c40fea808>]"
      ]
     },
     "execution_count": 59,
     "metadata": {},
     "output_type": "execute_result"
    },
    {
     "data": {
      "image/png": "[encoded data removed]",
      "text/plain": [
       "<Figure size 432x288 with 1 Axes>"
      ]
     },
     "metadata": {
      "needs_background": "light"
     },
     "output_type": "display_data"
    }
   ],
   "source": [
    "xplot = np.linspace(0.5,2.5,num=500)\n",
    "k = lambda x: np.sin(10*np.pi*x)/(2*x)+(x-1)**4\n",
    "plt.plot(xplot,k(xplot))"
   ]
  },
  {
   "cell_type": "markdown",
   "metadata": {},
   "source": [
    "Clearly, there are many local minima on this domain, but only one global minimum somewhere around $x = 0.53$.  How to find it exactly?  Try out some of our above optimization routines with varied initial guesses.  \n",
    "\n",
    "For example: \n",
    "\n",
    "    k = lambda x: np.sin(10*np.pi*x)/2/x + (x - 1)**4\n",
    "    xplot = np.linspace(0.5, 2.5, 100)\n",
    "    kplot = k(xplot)\n",
    "    sol = opt.minimize(k,1, bounds = [(0.5, 2.5)])\n",
    "    plt.plot(xplot, kplot, 'k', LineWidth = 1)\n",
    "    plt.scatter(sol.x[0], sol.fun, color = 'r', marker = 'o')\n",
    "\n",
    "Notice how hard it is to get these routines to locate the true global minimum.  It is almost a question of a lucky combination of algorithm, initial guess, and/or bounds at this point..."
   ]
  },
  {
   "cell_type": "code",
   "execution_count": 74,
   "metadata": {},
   "outputs": [
    {
     "name": "stdout",
     "output_type": "stream",
     "text": [
      "[0.54856344] [-0.86901113]\n"
     ]
    },
    {
     "data": {
      "image/png": "[encoded data removed]",
      "text/plain": [
       "<Figure size 432x288 with 1 Axes>"
      ]
     },
     "metadata": {
      "needs_background": "light"
     },
     "output_type": "display_data"
    }
   ],
   "source": [
    "sol = opt.minimize(k,.6,bounds = [(0.5, 0.7)])\n",
    "plt.plot(xplot, k(xplot), 'k', LineWidth = 1)\n",
    "plt.scatter(sol.x[0], sol.fun, color = 'r', marker = 'o')\n",
    "print(sol.x,sol.fun)"
   ]
  },
  {
   "cell_type": "markdown",
   "metadata": {},
   "source": [
    "This is the type of case where we might be interested in trying out a global optimization routine, of which there are several available in Scipy: basinhopping, brute, differential_evolution, shgo, and dual_annealing.  They all have fairly similar syntax. You will typically supply the function name (all algorithms), an initial guess (basinhopping), and/or the bounds on the variable(s) (all other algorithms). Here, the syntax for bounds is similar to what we used for opt.minimize, except that we don't need a bounds keyword. \n",
    "\n",
    "For example, to look for a minimum with this function using basinhopping:\n",
    "\n",
    "    opt.basinhopping(k,1)\n",
    "    \n",
    "Whereas if you wanted to use dual_annealing, you would supply the function and a range to consider:\n",
    "\n",
    "    opt.dual_annealing(k, [(0.5,2.5)])\n",
    "    \n",
    "In general, for this function, I found the bounded methods dual_annealing, shgo, and differential_evolution to work relatively well, whereas it was difficult to constrain the basin hopping algorithm to the domain of interest.\n",
    "\n",
    "    xplot = np.linspace(0.5, 2.5, 100)\n",
    "    kplot = k(xplot)\n",
    "    sol = opt.dual_annealing(k, [(0.5, 2.5)])\n",
    "    plt.plot(xplot, kplot, 'k', LineWidth = 1)\n",
    "    plt.scatter(sol.x[0], sol.fun[0], color = 'r', marker = 'o')"
   ]
  },
  {
   "cell_type": "code",
   "execution_count": 76,
   "metadata": {},
   "outputs": [
    {
     "data": {
      "text/plain": [
       "<matplotlib.collections.PathCollection at 0x15c413ed508>"
      ]
     },
     "execution_count": 76,
     "metadata": {},
     "output_type": "execute_result"
    },
    {
     "data": {
      "image/png": "[encoded data removed]",
      "text/plain": [
       "<Figure size 432x288 with 1 Axes>"
      ]
     },
     "metadata": {
      "needs_background": "light"
     },
     "output_type": "display_data"
    }
   ],
   "source": [
    "#opt.basinhopping(k,1)\n",
    "#opt.dual_annealing(k, [(0.5, 2.5)])\n",
    "xplot = np.linspace(0.5, 2.5, 100)\n",
    "kplot = k(xplot)\n",
    "sol = opt.dual_annealing(k, [(0.5, 2.5)])\n",
    "plt.plot(xplot, kplot, 'k', LineWidth = 1)\n",
    "plt.scatter(sol.x[0], sol.fun[0], color = 'r', marker = 'o')"
   ]
  }
 ],
 "metadata": {
  "kernelspec": {
   "display_name": "Python 3",
   "language": "python",
   "name": "python3"
  },
  "language_info": {
   "codemirror_mode": {
    "name": "ipython",
    "version": 3
   },
   "file_extension": ".py",
   "mimetype": "text/x-python",
   "name": "python",
   "nbconvert_exporter": "python",
   "pygments_lexer": "ipython3",
   "version": "3.7.6"
  }
 },
 "nbformat": 4,
 "nbformat_minor": 4
}
