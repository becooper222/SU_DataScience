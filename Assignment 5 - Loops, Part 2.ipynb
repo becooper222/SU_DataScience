{
 "cells": [
  {
   "cell_type": "markdown",
   "metadata": {},
   "source": [
    "## While Loops\n",
    "\n",
    "We just completed an exercise about **for loops**, so we should have a good feel for how they work. The main feature of a for loop is that it will iterate over all of the elements in a pre-defined set or range. A **while loop** is fundamentally different from a for loop in that it continues to loop through iterations as long as the criteria specified in the conditional statement at the start of the while loop remains true. This opens up some new possibilities in how we use them.\n",
    "\n",
    "Before we get to some while loop-specific action, a good way to highlight the difference between a for loop and a while loop is to use them to do the exact same thing.\n",
    "\n",
    "We will use a for loop to print all of the integers from 1 to 11 (without first creating that list of integers manually).  We will not store those integers in a list, we will just print their values to indicate passes through the for loop.\n",
    "\n",
    "    for i in range(1,12):\n",
    "        print(i)\n",
    "\n",
    "Now the same with a while loop. We will initiate the while loop by defining n as the first integer we are interested in printing (1) and then increment the value of n until I reach an integer value of 11: \n",
    "\n",
    "    n = 1\n",
    "    while n < 12:\n",
    "        print(n)\n",
    "        n = n + 1\n",
    "\n",
    "Just like a for loop, a while loop starts with a keyword, **while** in this case. After the keyword, we have to specify what criteria we want to use to make a decision about the range that we iterate over.  In this case, I want to continue iterations until I reach the integer 11. While statements are a type of conditional statement; they tell the program to execute the commands inside of the loop as long as certain criteria are met. In general, we set these criteria using statements involving comparison operators: greater than (>), less than (<), equal to (==), greater than or equal to (>=), less than or equal to (<=), and not equal to (!=). Optionally, they may be combined with logical operators (and, or, not) if we need to satisfy multiple criteria to continue executing the while loop. \n",
    "\n",
    "Here, I've chosen to run iterations as long as n < 12. After the condition(s) for the while loop to continue is defined, we terminate the first line with a colon, just as we would with a function or a for loop. Subsequent lines are then indented to indicate that they are inside of the while loop. Once you return to flush left, the code is outside of the while loop and will not be exectued until the while loop is completed. \n",
    "\n",
    "In this example, we initialize the loop by defining n = 1. At the start, n = 1, so when the interpreter hits the comparison in the while statement, it finds that the criteria that n < 12 is true. It then continues into the while loop and executes the commands in the body of the loop. The value of n (1) is printed to the screen, and then we add 1 to the value of n and return to the start of the loop. Now n = 2, which is still less than 12, so things continue and repeat in the same way until it gets to n = 11.  Since 11 < 12, it makes another pass through the loop, prints 11 to the screen, and then updates the value of n one last time.  Here, it calculates that n = 12, so n < 12 is no longer satisfied, and the loop does not proceed through the next iteration. \n",
    "\n",
    "Type the for and while loops in the cell below to get a feel for how they work and the differences between them."
   ]
  },
  {
   "cell_type": "code",
   "execution_count": 1,
   "metadata": {},
   "outputs": [
    {
     "name": "stdout",
     "output_type": "stream",
     "text": [
      "1\n",
      "2\n",
      "3\n",
      "4\n",
      "5\n",
      "6\n",
      "7\n",
      "8\n",
      "9\n",
      "10\n",
      "11\n",
      "1\n",
      "2\n",
      "3\n",
      "4\n",
      "5\n",
      "6\n",
      "7\n",
      "8\n",
      "9\n",
      "10\n",
      "11\n"
     ]
    }
   ],
   "source": [
    "for i in range(1,12):\n",
    "    print(i)\n",
    "n = 1\n",
    "while n < 12:\n",
    "    print(n)\n",
    "    n = n + 1"
   ]
  },
  {
   "cell_type": "markdown",
   "metadata": {},
   "source": [
    "Now, some useful Python shorthand. **For loops** always iterate automatically over the range we specify at the start, so we don't control the value of the iterator once we have defined the set to iterate over. With a **while loop**, we frequently update the value the quantity used to establish the while loop criteria on each pass. In the above example, we wanted to add 1 to our counter on every pass, and I include that in the loop by writing:\n",
    "\n",
    "    n = n + 1\n",
    "    \n",
    "It looks strange to define n as an implicit function of itself, but in a programming language, this syntax evaluates the right hand side using the current value of n, and then it over-writes the current value of n with whatever the right hand side evaluates to. For example, in our first pass through the above loop, n = 1. Then we hit the increment step, and we say n = n + 1, which is evaluated as n = 1 + 1, so n is redefined as 2 at the end of the first pass. At the end of the second pass, when we hit the increment, the current state is n = 2, so we evaluate n = 2 + 1, and n is redefined as 3.  This continues until our counter reaches whatever threshold we specify.\n",
    "\n",
    "On to the shorthand:\n",
    "\n",
    "We write increments like this so frequently, there are a number of ways we can specify them with shorthand.  For example, \n",
    "\n",
    "    n = n + 1\n",
    "\n",
    "Can be expressed as\n",
    "\n",
    "    n += 1\n",
    "\n",
    "And\n",
    "\n",
    "    x = x*5\n",
    "    \n",
    "Can be written as\n",
    "\n",
    "    x *= 5\n",
    "    \n",
    "You could even write:\n",
    "\n",
    "    i *= i\n",
    "    \n",
    "To update the current value of i by multiplying it by itself, i.e., you square i (though you may not want to start this one out with i = 1).\n",
    "    \n",
    "The link below includes a number of these operations. They can be generally extended to whatever math operation you have in mind.  This is extremely common syntax in programming, so it is worth becoming familiar with the notation now. **Note**: We will most likely not use bitwise operators, at least not as they are presented here.\n",
    "\n",
    "https://www.w3schools.com/python/python_operators.asp\n",
    "\n",
    "Try out a few of these different assignment operators to see how they change the behavior of your while loop in the cell below."
   ]
  },
  {
   "cell_type": "code",
   "execution_count": 2,
   "metadata": {},
   "outputs": [
    {
     "name": "stdout",
     "output_type": "stream",
     "text": [
      "6\n"
     ]
    }
   ],
   "source": [
    "x = 1\n",
    "x*=3\n",
    "x*=x\n",
    "x-=3\n",
    "print(x) #should be 6"
   ]
  },
  {
   "cell_type": "markdown",
   "metadata": {},
   "source": [
    "Now one more illustration of using for loops and while loops to accomplish the same task:\n",
    "\n",
    "Generating a list of integers between 10 and -10 with a for loop:\n",
    "\n",
    "    A = []\n",
    "    for i in range(10,-11,-1):\n",
    "        A.append(i)\n",
    "    print(A)\n",
    "\n",
    "Generating the same list of integers with a while loop:\n",
    "\n",
    "    B = []\n",
    "    n = 10\n",
    "    while n >= -10:\n",
    "        B.append(n)\n",
    "        n -= 1\n",
    "    print(B)\n",
    "    \n",
    "In both cases, we start with an empty list and use the append() method to add values to it, but take a minute to think about the fundamentally different nature of for and while loops."
   ]
  },
  {
   "cell_type": "code",
   "execution_count": 3,
   "metadata": {
    "scrolled": true
   },
   "outputs": [
    {
     "name": "stdout",
     "output_type": "stream",
     "text": [
      "[10, 9, 8, 7, 6, 5, 4, 3, 2, 1, 0, -1, -2, -3, -4, -5, -6, -7, -8, -9, -10]\n"
     ]
    }
   ],
   "source": [
    "B = []\n",
    "n = 10\n",
    "while n >= -10:\n",
    "    B.append(n)\n",
    "    n -= 1\n",
    "print(B)"
   ]
  },
  {
   "cell_type": "markdown",
   "metadata": {},
   "source": [
    "Both loops give you the same result, they just have different architectures, which makes them suited to different tasks. For example, if I measured 100 discrete data points, and I wanted to perform operations on all of them, then a for loop makes sense because I'm working with an existing set. Generally, for creating a simple list in a range, I would probably always use a list comprehension instead of an expanded for or while loop because it is cleaner and easier to write. (We did this already in a previous assignment, but try it again  for the list of integers from 10 to -10 in the cell below to see if you remember how.)"
   ]
  },
  {
   "cell_type": "code",
   "execution_count": 6,
   "metadata": {},
   "outputs": [
    {
     "name": "stdout",
     "output_type": "stream",
     "text": [
      "[10, 9, 8, 7, 6, 5, 4, 3, 2, 1, 0, -1, -2, -3, -4, -5, -6, -7, -8, -9, -10]\n"
     ]
    }
   ],
   "source": [
    "C = [i for i in range(10,-11,-1)]\n",
    "print(C)"
   ]
  },
  {
   "cell_type": "markdown",
   "metadata": {},
   "source": [
    "If, on the other hand, I have an application that requires me to repeat an iteration until I cross some specific threshold, then I would choose a while loop. While loops really shine when I don't have a great idea about how many iterations my loop will take, I just know that I have a conditions that needs to remain true or I have some idea of what the endpoint needs to be.\n",
    "\n",
    "Let's say, for example, you want to generate the list of positive multiples of 3 whose sum is less than 10000.  I am sure we could come up with a way to do this with a for loop (probably if we used if statements and broke the loop early), but this seems like a clear application for a while loop because we don't really know what that set of numbers is going to be, we only know that we want its sum to be less than 10,000.\n",
    "\n",
    "(**Editor's Note**: I did this problem incorrectly on my first try, and it took me a minute to figure out how to fix the issue.  I decided to leave the faulty logic in the worksheet so that you can see how you start with an intuitive solution, see if it works, and then revise as necessary.)\n",
    "\n",
    "So here's my intuition:  I want to start off my list with the integer 3 since it is the first positive multiple of 3. and the sum of that list is certainly less than 10000. I've gotten used to initiating loops with an empty list, so I'll try that here.\n",
    "\n",
    "    n = 3\n",
    "    Treys = []\n",
    "    while sum(Treys) < 10000:\n",
    "        Treys.append(n)\n",
    "        n += 3\n",
    "\n",
    "I've introduced a new built in Python function, sum().  It is super useful!  It sums all of the elements of a list for us! As long as the sum of the elements in **Treys** is less than 10,000, the loop will continue to execute.  If the critera are satisfied for the current value of n, then I add it to the list and increment n by 3 integers."
   ]
  },
  {
   "cell_type": "code",
   "execution_count": 1,
   "metadata": {},
   "outputs": [
    {
     "name": "stdout",
     "output_type": "stream",
     "text": [
      "[3, 6, 9, 12, 15, 18, 21, 24, 27, 30, 33, 36, 39, 42, 45, 48, 51, 54, 57, 60, 63, 66, 69, 72, 75, 78, 81, 84, 87, 90, 93, 96, 99, 102, 105, 108, 111, 114, 117, 120, 123, 126, 129, 132, 135, 138, 141, 144, 147, 150, 153, 156, 159, 162, 165, 168, 171, 174, 177, 180, 183, 186, 189, 192, 195, 198, 201, 204, 207, 210, 213, 216, 219, 222, 225, 228, 231, 234, 237, 240, 243]\n",
      "9963\n"
     ]
    }
   ],
   "source": [
    "n = 3\n",
    "Treys = []\n",
    "while sum(Treys) < 10000:\n",
    "    Treys.append(n)\n",
    "    n += 3\n",
    "Treys.pop()\n",
    "print(Treys)\n",
    "print(sum(Treys))"
   ]
  },
  {
   "cell_type": "markdown",
   "metadata": {},
   "source": [
    "But check the final list and the sum of that list to see if it worked or not.  "
   ]
  },
  {
   "cell_type": "code",
   "execution_count": 2,
   "metadata": {},
   "outputs": [
    {
     "data": {
      "text/plain": [
       "9963"
      ]
     },
     "execution_count": 2,
     "metadata": {},
     "output_type": "execute_result"
    }
   ],
   "source": [
    "sum(Treys)"
   ]
  },
  {
   "cell_type": "markdown",
   "metadata": {},
   "source": [
    "So, in all honesty, that *is* the first way I intuitively wrote a while loop to solve the problem. But it doesn't work correctly because it generates a list whose sum is larger than 10000. How would you fix it? It is possible that you see a solution already, but if not, here is a tip:\n",
    "\n",
    "Working with a list of numbers this large is difficult.  It is hard to visualize the data, you have no idea what the correct answer should be, and so it can be hard to debug.  A better approach would be to scale the problem down to something that you know the answer to already.  For example, let's find the set of positive multiples of three whose sum is less than 20.  That is much easier to deal with since I already know the answer.  If I add 3, 6, and 9, I get 18.  If I add 12 to that, I get 30.  So the set of multiples of 3 whose sum is less than 20 is clearly 3, 6, 9, and their sum is 18.  Let's solve *that* problem instead by adapting the above while loop. Print both the sum and the list to see if you can figure out what is going on."
   ]
  },
  {
   "cell_type": "code",
   "execution_count": 5,
   "metadata": {},
   "outputs": [
    {
     "name": "stdout",
     "output_type": "stream",
     "text": [
      "[3, 6, 9]\n"
     ]
    },
    {
     "data": {
      "text/plain": [
       "18"
      ]
     },
     "execution_count": 5,
     "metadata": {},
     "output_type": "execute_result"
    }
   ],
   "source": [
    "n = 3\n",
    "wack = []\n",
    "while sum(wack) < 20:\n",
    "    wack.append(n)\n",
    "    n += 3\n",
    "wack.pop(-1)\n",
    "print(wack)\n",
    "sum(wack)"
   ]
  },
  {
   "cell_type": "markdown",
   "metadata": {},
   "source": [
    "With the way I have structured the initial state, the increment, and the append command, this loop is including 12 in the set, whereas I really want it to stop at 9. How would you modify your loop so that:\n",
    "\n",
    "    Treys = [3, 6, 9]\n",
    "\n",
    "Whose sum is 18, which is less than 20 as desired?  Once you've fixed that error, go back and correct the original loop.  This is an example of how to debug a script that isn't performing as you want it to - write it to perform a task that you already know the answer to. Then you can figure out what you've done wrong.\n",
    "\n",
    "There is probably more than one way to handle this - I did it by changing my comparison criteria in the while statement.  Regardless, once your loop is behaving as you expect for the smaller problem, scale it up to sum(Treys) < 50 and see if it still works.  < 100? If you're getting the expected behavior as you continue to scale the problem, you're probably ready to apply it to a set, sum(Treys) < 10000, that you don't automatically know the answer to.  Scaling a solution this way, from a known problem to an unknown problem, helps you to trust a computer's result in providing answers for problems that cannot be solved otherwise.\n",
    "\n",
    "Once you get it working, then get the correct set of multiples and print out its sum in the cell below."
   ]
  },
  {
   "cell_type": "code",
   "execution_count": 6,
   "metadata": {},
   "outputs": [
    {
     "data": {
      "text/plain": [
       "9963"
      ]
     },
     "execution_count": 6,
     "metadata": {},
     "output_type": "execute_result"
    }
   ],
   "source": [
    "sum(Treys)"
   ]
  },
  {
   "cell_type": "markdown",
   "metadata": {},
   "source": [
    "Another thing that comes to mind with while loops is using them to solve problems where we have some convergence threshold on our answer. We'll work through a few totally random examples of engineering-type problems that you could handle by applying convergence thresholds in a while loop.\n",
    "\n",
    "**Example 1: A Brute Force Iterative Solution to an Algebraic Equation**\n",
    "\n",
    "Later in the course, we'll cover *efficient* ways to solve an algebraic equation using an iterative approach.  For now, we will use an *inefficient* approach just to demonstrate what a while loop can do, and to introduce you to the idea of a tolerance on your solution. \n",
    "\n",
    "We have a function, y = 5*x<sup>2</sup> + 8*x - 23. We would like to find the **roots** for that function.  By that, I mean the values of x where y = 0.  We can do this in a number of ways; for this particular problem, the quadratic formula is a good choice, and it tells us that y = 0 when:\n",
    "\n",
    "    x = 1.489 \n",
    "\n",
    "or\n",
    "\n",
    "    x = -3.089\n",
    "    \n",
    "But let's pretend we do not know a solution method like factoring or the quadratic formula.  We might revert to an iterative method like guess-and-check.  This is simple, but tedious.  The idea is that we guess a value of x, evaluate the function, and check the value of y. If the value of y is not equal to zero, then we update the value of x and try again.  In general, we will make informed guesses or use an efficient algorithm like Newton-Raphson, but for now, let's just use a while loop.\n",
    "\n",
    "The first thing to decide is what is our tolerance on that solution, in other words, we are iterating to find the value of x where y = 0....but what exactly are we ready to accept as \"equal to zero.\"  2 decimal places?  8 decimal places?  This is our tolerance on the solution. Since we are using a very crude approach, we will set a loose tolerance and say that we will be satified if we can find the value of x where y is between -0.1 and 0.1. A simple way to do this is with the abs() function in python, which returns the absolute value of a number.  We can set this tolerance by saying we want to continue looking for the solution as long as abs(y) > 0.1. For our purposes, we'll call that \"close enough\" to zero that we've found a solution.  Also, we graphed this function, and it tells us that there is a root between -10 and 0, and another root between 0 and 10.  We will look for the positive root here.  \n",
    "\n",
    "OK then, how does that look in a while loop:\n",
    "\n",
    "    x = 0.0    #we need an initial guess for x\n",
    "    y = -23.0  #This is y at x = 0. We have to set an initial value for y because we use it in our comparison below\n",
    "    while abs(y) > 0.1:       #as long abs(y) is greater than 0.1, we aren't close enough.  Keep going. \n",
    "        y = 5*x**2 + 8*x - 23 #calculate the value of y at current x\n",
    "        print(round(x,2),round(y,2))            #Print result of iteration to see how loop is progressing\n",
    "        x += 0.01             #increment x by 0.01 units.\n",
    "        \n",
    "You'll notice the round() function embedded in the print statement.  This rounds a value to the specified number of decimal places.  Here, I specify that I want to see 2 decimal places in the printout)\n",
    "\n",
    "**Caution**: we have to be careful with this type of iteration.  The tolerance we set may require us to take smaller and smaller steps with x, otherwise we can jump right over the solution and the loop will continue infinitely.  For an example of this, try changing your tolerance to 0.01 without changing your step size in x and see what happens and why.  Remember, if you need to break the loop execution, you can do so with the stop icon in the menu bar.\n",
    "\n",
    "Now that you've mastered iterative root finding, adapt your script to find the negative root."
   ]
  },
  {
   "cell_type": "code",
   "execution_count": 11,
   "metadata": {},
   "outputs": [
    {
     "name": "stdout",
     "output_type": "stream",
     "text": [
      "-3.1\n"
     ]
    }
   ],
   "source": [
    "x = 0.0\n",
    "y = -23.0\n",
    "while abs(y) > 0.1:\n",
    "    y = 5*x**2 + 8*x - 23\n",
    "    #print(round(x,2),round(y,2))\n",
    "    x -= 0.01\n",
    "print(round(x,2))"
   ]
  },
  {
   "cell_type": "markdown",
   "metadata": {},
   "source": [
    "As engineers, we are frequently interested in processes that are operating at steady state.  This means that conditions for that process - temperatures, concentrations, pressures, etc. - are not changing as a function of time. But it is unusual for a process to *start* at steady state.  Let's look at how long it takes for your body to reach steady state on a run!  \n",
    "\n",
    "**Example 2: Steady state suffering**\n",
    "\n",
    "Imagine you go out for a run.  You start out at what you feel is a decent running pace. For the first few minutes, you feel pretty good. Your heart rate is low, your breathing rate is low, you aren't really perspiring very much...and that all lasts for awhile. Then everything starts to catch up to your effort.  Your pulse increases, you are breathing more rapidly, you are beginning to perspire.  You can hang in there, you just feel like you're working now. You keep your pace/effort steady. Now, you're 20 minutes in. You're flushed, you're gasping for breath, and you are certain that death is just around the corner. You somehow keep going...keeping both your pace and your level of suffering right about constant.  \n",
    "\n",
    "Now you've arrived at what it feels like to run at that pace - *that is steady state*. Your work output, breathing, and metabolism are all in balance and nothing is changing as a function of time (as long as you keep your effort steady). Surely you've seen this - it takes some time for the level of pain to catch up to your level of effort, but eventually everything settles in. \n",
    "\n",
    "Anytime you make a perturbation to a system (in this case, the perturbation is you getting off the couch and starting to run), it takes time for the system to reach steady state. One way that we watch the approach to steady state is to monitor a variable that responds to perturbation as a function of time. In the running example, we could look at your heart rate, blood lactate concentration, or respiration rate.  Eventually, they will reach steady state, and we can roughly figure out how long it took to get there.  Next week, when we start on analyzing real data sets, I'll try to supply a power/heart rate data set vs. time for a bike race so that you all can process a big data set with pandas, but for now, let's just look at that approach to steady state in blood lactate levels.\n",
    "\n",
    "Let's assume your blood lactate obeys the following model:\n",
    "\n",
    "    Lactate = Lactate_SS + (Lactate_0 - Lactate_SS)*exp(-k*t)\n",
    "\n",
    "Here, Lactate is your blood lactate concentration in millimoles per liter (mM) at a given time since you started running. Lactate_SS is the steady state blood lactate concentration at your current, near-death exertion level when running at a steady pace, and Lacate_0 is your blood lactate concentration at your more comfortable, sitting on the couch level when you started this run.\n",
    "\n",
    "Let's say for simplicity Lactate_0 = 0.75 mM, Lactate_SS = 12 mM, and k is a time constant that specifies the time scales over which your blood lactate concentration responds to your change in effort from couch to 10K.\n",
    "\n",
    "We can use a while loop to determine how long it takes for you to reach peak, steady state suffering.  How will I determine when I'm at steady state?  I will set an absolute error tolerance of 0.01. Once I get within 0.01 mM of my known steady state lactate concentration(12 mM), I will say that I have reached steady state. This bit of code then prints out the time needed to hit steady state and also plots blood lactate as a function of time. It works by initializing time, tolerance, and your lactate level, and then it updates all of them on each pass of the loop.  Here, we increment time by a single minute with every step; you may need to adjust that step size depending on the time scale of your process.  You may question why I picked a starting tolerance of 100.  I can pick anything as long as it is larger than my threshold tolerance.  I just need something bigger than 0.01 so that I can start the loop. **Another quick reminder:**  exp is not in base Python; you can import it from the math package.\n",
    "\n",
    "    from math import exp\n",
    "    L_SS = 12    #mM\n",
    "    L_0  = 0.75  #mM\n",
    "    k    = 0.286 #1/min\n",
    "    Lactate = []\n",
    "    Tolerance = 100\n",
    "    t    = 0 #min\n",
    "    step = 1 #min\n",
    "    \n",
    "    while Tolerance > 0.01:\n",
    "        Lactate.append(L_SS + (L_0 - L_SS)*exp(-k*t))\n",
    "        Tolerance = abs(Lactate[-1] - L_SS)\n",
    "        t += step\n",
    "\n",
    "    print(t)\n",
    "    time = [x for x in range(0,t,step)]\n",
    "    plt.plot(time,Lactate)"
   ]
  },
  {
   "cell_type": "code",
   "execution_count": 12,
   "metadata": {},
   "outputs": [
    {
     "name": "stdout",
     "output_type": "stream",
     "text": [
      "26\n"
     ]
    },
    {
     "data": {
      "text/plain": [
       "[<matplotlib.lines.Line2D at 0x25573d64488>]"
      ]
     },
     "execution_count": 12,
     "metadata": {},
     "output_type": "execute_result"
    },
    {
     "data": {
      "image/png": "[encoded data removed]",
      "text/plain": [
       "<Figure size 432x288 with 1 Axes>"
      ]
     },
     "metadata": {
      "needs_background": "light"
     },
     "output_type": "display_data"
    }
   ],
   "source": [
    "from math import exp\n",
    "import matplotlib.pyplot as plt\n",
    "L_SS = 12    #mM\n",
    "L_0  = 0.75  #mM\n",
    "k    = 0.286 #1/min\n",
    "\n",
    "Lactate = []\n",
    "Tolerance = 100\n",
    "t    = 0 #min\n",
    "step = 1 #min\n",
    "\n",
    "while Tolerance > 0.01:\n",
    "    Lactate.append(L_SS + (L_0 - L_SS)*exp(-k*t))\n",
    "    Tolerance = abs(Lactate[-1] - L_SS)\n",
    "    t += step\n",
    "\n",
    "print(t)\n",
    "time = [x for x in range(0,t,step)]\n",
    "plt.plot(time,Lactate)"
   ]
  },
  {
   "cell_type": "markdown",
   "metadata": {},
   "source": [
    "Now is a good time for a reminder that a while loop isn't the only way to do this, but it might be the best way to do it when working with lists in Python as your data structure.  It is just an example to show you how while loops work and how you might think to adapt the convergence criteria. It doesn't always need to take the form integer < number.  You can get pretty creative with these things."
   ]
  },
  {
   "cell_type": "code",
   "execution_count": null,
   "metadata": {},
   "outputs": [],
   "source": []
  },
  {
   "cell_type": "markdown",
   "metadata": {},
   "source": [
    "OK, now for some serious fireworks. Let's combine for loops, while loops, and the dice roller function that we built in Assignment \\#3 to answer a really important question.\n",
    "\n",
    "**Example 3:  How much damage will a magic battle axe do against a Lich anyway?**\n",
    "\n",
    "In this example, we'll travel to the legit game world, where your guild is up against something super gnarly. Let's say a very old Lich. Ok, let's just say you're fighting Acererak from Tomb of Horrors. Straight up bad news. \n",
    "\n",
    "After a pitched battle, everyone in your guild is down *except for you*. You aren't in great shape, but as far as you can tell, neither is Acererak. He looks rough *even by lich standards*, and you are pretty sure that he's on his last legs. Some back of the envelope estimation (out of game) suggests that Acererak has about 28 hit points remaining, give or take. You have a magic great axe that has *Lichslayer III* written in Dwarven on the handle. Acererak's physical armor is falling apart, and you swear you saw his mage armor flicker out of existence like 3 rounds ago. You're a 19th level berserker, so you have a great chance to hit...the question is whether it will do enough damage to put Acererak down. It is all down to this roll - you're up in initiative, and if you can beat 28, he's done for...but if you don't and he gets to return fire...he can hit you at will and pretty much take you down with a cantrip. It's...risky. Discretion may be the better part of valor? Do you drag your comrades along and head for the sunlight, or do you swing the axe?  Boy, it'd be nice to know what to expect on that damage roll.  \n",
    "\n",
    "Let's try to see if we can gauge our chances a bit by figuring out an average damage roll for *Lichslayer III*.  We'll assume you'll hit because you're a 19th level berserker and he basically has no armor left. Your great axe does 4d12+5 base damage and then 2d4+2 bonus damage against Liches (because, *Lichslayer III*). The way this works is you roll your dice sets individually, add any modifiers, and then sum everything up to calculate your total damage roll.  For example, 4d12+5, if we rolled a 12 on each of our 4 dice, would give a total base damage of 53. 2d4+2, if we rolled 4 on each of our dice, would give bonus damage of 10. Add those together, that's 63 and plenty to drop Acererak. But then, it's pretty rare to ace on all of those dice, and there is a good chance your roll comes out much lower.\n",
    "\n",
    "Just for kicks, let's use a while loop to figure out the average result of that damage roll. This is basically the core of a monte carlo simulation - as a computer experiment, we will roll the dice (4d12+5 and 2d4+2) virtually and calculate the damage total. But we are actually interested in calculating the mean value by repeating the damage roll a number of times and then calculating the mean damage from all of our rolls. The thing we have to realize is that we will not approach the true mean until we repeat the damage roll many, many times.\n",
    "\n",
    "If this doesn't quite make sense, imagine flipping a quarter 4 times...there is a good chance you don't get heads twice and tails twice, even though the probability of either roll is 1/2. If you flip the coin 100,000 times though, you will approach 50,000 heads and 50,000 tails, which is what you'd expect based on probability of the two outcomes. So the question I want to answer is how many times we need to make that damage roll before we get a reasonable approximation for the average of 4d12+5 + 2d4+2.  \n",
    "\n",
    "This is a fun example, but we really are just running a simulation until it coverges, and similar techniques are at the core of various simulations you might use in research, statistics, or data analysis. We are just going to use a while loop to continue increasing the number of damage rolls we make until the mean we get is no longer changing relative to our best current estimate of the mean. At that point, our simulation has converged, and we will consider this a pretty good approximation for our mean damage roll. \n",
    "\n",
    "As above, we have to set a convergence threshold.  I'll say that I'm happy if the specific experiment I've just run (making the damage roll \"n\" times and taking the average result) returns a mean value that is within 0.001 units of the average of *every single damage roll* I have made up to that point. When I hit a value of \"n\" damage rolls that satisfies this threshold, we are reaching a spot where adding another dice roll to the simulation does not significantly change the average result, so we stop increasing the number of times we make the damage roll, and we say this is a reasonable approximation of the average result.\n",
    "\n",
    "I've constructed this as a for loop nested within a while loop.  The while loop continues iterating until we meet our convergence criteria, and the for loop calculates the mean damage roll for \"n\" damage rolls. Our first experiment is going to be rolling our damage total 4 times (n = 4). Once the for loop is done, we figure out the \"average\" of those 4 damage rolls, and we append it to our running tally of average results for \"n\" damage rolls. We then increment and go to 5 damage rolls and repeat the process for n = 5, then n = 6, and so forth. We will proceed until the average of \"n\" damage rolls is roughly equal to the average of **all** of the damage rolls I've made prior to those \"n\" rolls (taking the average of 1 roll, 2 rolls, 3 rolls, etc). To set up this simulation, I seeded the results of 1, 2, and 3 dice rolls with a few values - the minimum possible result (13), the maximum possible result (63), and something about in the middle (40). I did this to make sure I start out my 4 roll simulation in a spot where I am not immediately meeting my threshold criteria so that the simulation can proceed. As n gets large, the value of these first 3 made up results become insignificant. \n",
    "\n",
    "Before you start - this is a great test case for a monte-carlo type method because we know the result or can figure it out easily based on probability.  Without going into too many details, the mean result for a d12 is 6.5, and the mean result for a d4 is 2.5. Based on that (4\\*6.5) + 5 + (2\\*2.5) + 2 = 38\n",
    "\n",
    "If we've done our simulation correctly, we expect that our mean result will converge on 38.  Again, I am pointing this out because a computer will give you an output even if you've made mistakes in your code.  Anytime you can, test out your method on a system that you know the answer to - get it working there, and then scale it up to the system that you don't know the answer to already.\n",
    "\n",
    "    import matplotlib.pyplot as plt    \n",
    "    import random\n",
    "    \n",
    "    #This is our dice roller from assignment 3\n",
    "    def generator(sides, dice):\n",
    "        roll  = [random.randint(1,sides) for i in range(1,dice+1)]\n",
    "        return roll\n",
    "    \n",
    "    #We will start the experiment by rolling 4 dice \n",
    "    n = 4\n",
    "    \n",
    "    #Initial value for my threshold so that the loop can get started (i.e., anything above 0.001 will work)\n",
    "    threshold = 10\n",
    "\n",
    "    averages = [13, 63, 40]          #Seeding the first three rolls with a few possible results to get the mean started\n",
    "    counter  = [1,   2,  3]          #Seeding my counter with rolls 1, 2, and 3.  \n",
    "    while threshold > 0.001:         #Run the commands below as long as threshold is > 0.001\n",
    "        counter.append(n)            #You've started the experiment; you'll rolling \"n\" dice this time.\n",
    "        total = []                   #Initialize a list 'total' where we will store the results of all n rolls\n",
    "        for i in range(0,n):         #Use a for loop to make n damage rolls and store the result from each.\n",
    "            roll1 = generator(12, 4) #This is your 4d12 roll\n",
    "            roll2 = generator(4,  2) #This is your 2d4 roll\n",
    "            base  = sum(roll1) + 5   #Adding modifier to base\n",
    "            bonus = sum(roll2) + 2   #Adding modifer to bonus\n",
    "            damage = base + bonus    #Result of the ith damage roll out of n damage rolls.\n",
    "            total.append(damage)     #Append the ith damage total to list called 'total'\n",
    "        mean_result_for_n_rolls = sum(total)/len(total)  #calculate the mean of n damage rolls after exiting for loop\n",
    "    \n",
    "        averages.append(mean_result_for_n_rolls)  #append the mean of n rolls onto running total of average results \n",
    "        mean_result_for_all_rolls = sum(averages)/len(averages) #Calculate the mean of every single roll so far.\n",
    "    \n",
    "        #For my threshold, I'm checking the difference in the mean of \"n\" rolls and the mean of every single roll.  \n",
    "        threshold = abs(mean_result_for_all_rolls - mean_result_for_n_rolls)\n",
    "        \n",
    "        #increment the number of times you make the damage roll.  If threshold is > 0.001, you'll run this loop again.\n",
    "        n +=1\n",
    "    \n",
    "    print(n)\n",
    "    plt.plot(counter,averages)\n",
    "    print(averages[-1])\n",
    "    print(threshold)\n",
    "    \n",
    "Ultimately, this script will print out the number of rolls it takes to get within 0.001 absolute error from the running mean; plot the average damage roll as a function of dice rolls made; and print out the tolerance returned at your last step. You should see that as you increase the number of dice you roll, your mean result approach the true mean.\n",
    "\n",
    "What do you think? Stand your ground or retreat?"
   ]
  },
  {
   "cell_type": "code",
   "execution_count": 13,
   "metadata": {},
   "outputs": [
    {
     "name": "stdout",
     "output_type": "stream",
     "text": [
      "212\n",
      "38.1042654028436\n",
      "0.0007920785366479777\n"
     ]
    },
    {
     "data": {
      "image/png": "[encoded data removed]",
      "text/plain": [
       "<Figure size 432x288 with 1 Axes>"
      ]
     },
     "metadata": {
      "needs_background": "light"
     },
     "output_type": "display_data"
    }
   ],
   "source": [
    "import matplotlib.pyplot as plt    \n",
    "import random\n",
    "\n",
    "#This is our dice roller from assignment 3\n",
    "def generator(sides, dice):\n",
    "    roll  = [random.randint(1,sides) for i in range(1,dice+1)]\n",
    "    return roll\n",
    "\n",
    "#We will start the experiment by rolling 4 dice \n",
    "n = 4\n",
    "\n",
    "#Initial value for my threshold so that the loop can get started (i.e., anything above 0.001 will work)\n",
    "threshold = 10\n",
    "\n",
    "averages = [13, 63, 40]          #Seeding the first three rolls with a few possible results to get the mean started\n",
    "counter  = [1,   2,  3]          #Seeding my counter with rolls 1, 2, and 3.  \n",
    "while threshold > 0.001:         #Run the commands below as long as threshold is > 0.001\n",
    "    counter.append(n)            #You've started the experiment; you'll rolling \"n\" dice this time.\n",
    "    total = []                   #Initialize a list 'total' where we will store the results of all n rolls\n",
    "    for i in range(0,n):         #Use a for loop to make n damage rolls and store the result from each.\n",
    "        roll1 = generator(12, 4) #This is your 4d12 roll\n",
    "        roll2 = generator(4,  2) #This is your 2d4 roll\n",
    "        base  = sum(roll1) + 5   #Adding modifier to base\n",
    "        bonus = sum(roll2) + 2   #Adding modifer to bonus\n",
    "        damage = base + bonus    #Result of the ith damage roll out of n damage rolls.\n",
    "        total.append(damage)     #Append the ith damage total to list called 'total'\n",
    "    mean_result_for_n_rolls = sum(total)/len(total)  #calculate the mean of n damage rolls after exiting for loop\n",
    "\n",
    "    averages.append(mean_result_for_n_rolls)  #append the mean of n rolls onto running total of average results \n",
    "    mean_result_for_all_rolls = sum(averages)/len(averages) #Calculate the mean of every single roll so far.\n",
    "\n",
    "    #For my threshold, I'm checking the difference in the mean of \"n\" rolls and the mean of every single roll.  \n",
    "    threshold = abs(mean_result_for_all_rolls - mean_result_for_n_rolls)\n",
    "\n",
    "    #increment the number of times you make the damage roll.  If threshold is > 0.001, you'll run this loop again.\n",
    "    n +=1\n",
    "\n",
    "print(n)\n",
    "plt.plot(counter,averages)\n",
    "print(averages[-1])\n",
    "print(threshold)\n",
    "#definitely go for it, the graph settles above 28 relatively quickly meaning you have \n",
    "#a high probability of making a roll above that target"
   ]
  },
  {
   "cell_type": "markdown",
   "metadata": {},
   "source": [
    "**Example 4: American Beauty**\n",
    "\n",
    "Finally, just an illustration of how you might use a while loop to process a string. In general, letters can be converted into unicode character numbers and vice versa, so they also have an order associated with them and can be used in a comparison statement.\n",
    "\n",
    "    Musicians = ['Kreutzmann', 'Hart', 'Mydland', 'Garcia', 'Lesh', 'Weir', 'Hornsby', 'Welnick', 'Godchaux, D', 'Godchaux, K', 'McKernan', 'Constanten']\n",
    "    \n",
    "I will sort them in ascending order, and then use the following while loop:\n",
    "\n",
    "    Musicians.sort()\n",
    "    n = 0\n",
    "     while (Musicians[n][0] < 'M'): #Check the first character in the string Musicians[n].  Is it less than 'M'?\n",
    "        print(Musicians[n])         #Print the string at index n\n",
    "        n += 1                      #Increment n"
   ]
  },
  {
   "cell_type": "code",
   "execution_count": 16,
   "metadata": {},
   "outputs": [
    {
     "name": "stdout",
     "output_type": "stream",
     "text": [
      "Constanten\n",
      "Garcia\n",
      "Godchaux, D\n",
      "Godchaux, K\n",
      "Hart\n",
      "Hornsby\n",
      "Kreutzmann\n",
      "Lesh\n"
     ]
    }
   ],
   "source": [
    "Musicians = ['Kreutzmann', 'Hart', 'Mydland', 'Garcia', 'Lesh', 'Weir', 'Hornsby', 'Welnick', 'Godchaux, D', 'Godchaux, K', 'McKernan', 'Constanten']\n",
    "Musicians.sort()\n",
    "n = 0\n",
    "while (Musicians[n][0] < 'M'):\n",
    "    print(Musicians[n])\n",
    "    n += 1"
   ]
  }
 ],
 "metadata": {
  "kernelspec": {
   "display_name": "Python 3",
   "language": "python",
   "name": "python3"
  },
  "language_info": {
   "codemirror_mode": {
    "name": "ipython",
    "version": 3
   },
   "file_extension": ".py",
   "mimetype": "text/x-python",
   "name": "python",
   "nbconvert_exporter": "python",
   "pygments_lexer": "ipython3",
   "version": "3.7.6"
  }
 },
 "nbformat": 4,
 "nbformat_minor": 4
}
