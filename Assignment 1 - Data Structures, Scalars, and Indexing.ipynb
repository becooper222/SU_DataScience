{
 "cells": [
  {
   "cell_type": "markdown",
   "metadata": {},
   "source": [
    "**Assignment 1**\n",
    "\n",
    "The following exercises are intended to build familiarity and confidence with Python basics. We will start by learning about, creating, and manipulating various data types and data structures.\n",
    "\n",
    "**Background Reading: Scalars vs. Collections**\n",
    "\n",
    "Python supports various Data Types and Data Structures. These exercises will demonstrate usage for the most common ones in this course. It is first important to understand the difference between a **scalar** and a **collection**. In simple terms, a *scalar* refers to a something that has one and only one value associated with it, whereas a *collection* refers to a set that contains multiple items. If you are familiar with an array or a matrix in Matlab, these are examples of collections, both of which are supported in Python. Often the contents of a collection are scalars, but this is not always the case. Python is extremely versatile, and a \"collection\" can even be a set of other collections!  It might not be obvious now why this would be useful, but we will take advantage of this in working with large data sets.\n",
    "\n",
    "**Scalars**\n",
    "\n",
    "First, scalars. Think of these as variables that have a single value. Although your mind probably immediately jumps to a single number as an example of a scalar (which it is), scalars in Python are not necessarily numbers. In Python, there are many types (classes) of scalars that we will need to be familiar with:\n",
    "\t\n",
    "* **int** refers to an \"integer,\" which is a whole number. **Examples:** 1, 7, 452.\n",
    "* **float** refers to a floating point decimal.  **Examples:** 2.0, 6.75, 100.3\n",
    "* **complex** refers to a number that has an imaginary part. **Example:** 4.2 + 6i. Note that in Python, a \"j\" is used instead of an \"i\" for imaginary numbers.\n",
    "* **bool** A logical Boolean value. It is binary - either True or False. In most languages, including Python, True = 1, False = 0 or []. Python also recognizes explicit declarations of True and False\n",
    "* **str** A \"string\" of characters.  These are declared in Python using single, double, or triple quotes. For the purposes of this demonstration, they are interchangeable, but know that single, double, and triple quotes may have different applications when writing strings.  **Examples** 'Dog', \"Cat\", \"Iz Doggo?\", '''Iz Sluggo?''' are all strings. \n",
    "\n",
    "In general, one defines a scalar quantity by making a declaration using an equal sign, i.e., X = 5. \n",
    "\t\n",
    "Now it is time for an **Example**. These are embedded throughout this worksheet.  We will provide a prompt that describes how to type relevant commands in Python syntax, but to complete the worksheet, you will need to ***type*** the relevant snippets of code into the cell. Can you be lazy and copy/paste the code? Sure, but there is something about typing code that helps you get a feel for layout and how the language is written. So if you really want to master the language, *type the code*. This will give you time to really think about what you are doing and why. \n",
    "\n",
    "Assign the following values to variables A - E by entering them exactly as they are written in the following cell:\n",
    "\t\n",
    "    A = 1\n",
    "    B = 7.0\n",
    "    C = 5.6 + 2j \n",
    "    D = True \n",
    "    E = \"Obviously, you're not a golfer.\"\n",
    "\n",
    "Again, we have ensured that the commands are correct as written above, so type them *exactly* as they are given and then click the Run button to execute the code. "
   ]
  },
  {
   "cell_type": "code",
   "execution_count": 1,
   "metadata": {},
   "outputs": [],
   "source": [
    "A = 1\n",
    "B = 7.0\n",
    "C = 5.6 + 2j\n",
    "D = True\n",
    "E = \"Obviously, you're not a golfer.\""
   ]
  },
  {
   "cell_type": "markdown",
   "metadata": {},
   "source": [
    "You will notice that nothing prints to the screen - in general, this is the Python default. Python will only return the last value displayed within the code if you do not tell it to do otherwise. If you really want to view the value of a variable after it is declared, you should get into the habit of using the **print()** function, which is built into the Python base. Its usage is very simple, for example:\n",
    "\n",
    "    print(A) \n",
    "    print(B)\n",
    "\n",
    "will display the values of A and B in your Python Console.  Try it in the cell below for all of the variables you have just defined (and again execute the code)."
   ]
  },
  {
   "cell_type": "code",
   "execution_count": 2,
   "metadata": {},
   "outputs": [
    {
     "name": "stdout",
     "output_type": "stream",
     "text": [
      "1\n",
      "7.0\n"
     ]
    }
   ],
   "source": [
    "print(A)\n",
    "print(B)"
   ]
  },
  {
   "cell_type": "markdown",
   "metadata": {},
   "source": [
    "In Python, you can use the built in **type()** function called  to determine a variable's class. For this purpose, its usage is simple.  Entering \n",
    "\n",
    "    type(A) \n",
    "    \n",
    "in a Python console will confirm that A is an integer.  \n",
    "\t\n",
    "Use the type() function on the variables you've defined to determine the class for each; you should see the following results for A through E: **int, float, complex, bool, and str**.\n",
    "\n",
    "**Remember** if you want to make sure a value is displayed, you will need to use the print function; otherwise, a series of type() commands will return the value of the last one only.\n"
   ]
  },
  {
   "cell_type": "code",
   "execution_count": 3,
   "metadata": {},
   "outputs": [
    {
     "name": "stdout",
     "output_type": "stream",
     "text": [
      "<class 'int'>\n",
      "<class 'float'>\n",
      "<class 'complex'>\n",
      "<class 'bool'>\n",
      "<class 'str'>\n"
     ]
    }
   ],
   "source": [
    "print(type(A))\n",
    "print(type(B))\n",
    "print(type(C))\n",
    "print(type(D))\n",
    "print(type(E))"
   ]
  },
  {
   "cell_type": "markdown",
   "metadata": {},
   "source": [
    "Now that we have variables defined, we can use them in all of our typical operations within the Python language.  There are probably an infinite number of ways that you might use a variable once it is defined, but some of the most basic would be simple calculations. Math operations (at least in the way that you are familiar with them), can be performed as expected on integers, floats, or complex numbers. If you perform a math operation on a Boolean value, it will be treated as either 0 (False) or 1 (True) for the purpose of that operation.  Math operations are not directly applicable to strings - instead, they generally will **concatenate** strings. We will cover concatenation later in the worksheet.  \n",
    "\n",
    "Some basic operators that you are familiar with will work directly; these include +, -, \\*, and /. In Python, one can perform math operations on numbers of different types, so there is no issue with multiplying an integer by a float, dividing a complex number by an integer, or even adding a Boolean to a float. This is not true by default, so it is good to be aware of what types of operations are permissible on what types of scalars.\n",
    "\n",
    "In the cell below, try:\n",
    "\n",
    "     print(A + 1)\n",
    "     print(A + B)\n",
    "     print(C - A)\n",
    "     print(A/B)\n",
    "     print(A*C)\n",
    "     \n",
    "These should all behave as you expect. Next, we will do some math on a Boolean value of True:\n",
    "\n",
    "     print(B+D)\n",
    "\n",
    "You will see that the value of True stored in D is treated as a 1 for the purpose of the math operation.\n",
    "\n",
    "And finally, if you attempt to combine a string and a number in a math operations, it will either take you very literally (if your operation is a logical concatenation):\n",
    "\n",
    "     print(E + E)\n",
    "     print(3*E)\n",
    "\n",
    "Or you will get an error if it is not.\n",
    "\n",
    "     print(E+17)\n",
    "     print(3.75*E)\n",
    "     \n",
    "We will cover the basics of string concatenation in a later cell."
   ]
  },
  {
   "cell_type": "code",
   "execution_count": 4,
   "metadata": {},
   "outputs": [
    {
     "name": "stdout",
     "output_type": "stream",
     "text": [
      "2\n",
      "8.0\n",
      "(4.6+2j)\n",
      "0.14285714285714285\n",
      "(5.6+2j)\n",
      "8.0\n",
      "Obviously, you're not a golfer.Obviously, you're not a golfer.\n",
      "Obviously, you're not a golfer.Obviously, you're not a golfer.Obviously, you're not a golfer.\n"
     ]
    }
   ],
   "source": [
    "print(A + 1)\n",
    "print(A + B)\n",
    "print(C - A)\n",
    "print(A/B)\n",
    "print(A*C)\n",
    "print(B+D)\n",
    "print(E + E)\n",
    "print(3*E)"
   ]
  },
  {
   "cell_type": "markdown",
   "metadata": {},
   "source": [
    "There are two more math operators that you may be less familiar with, but that are often useful in programming.  The first is // and the second is %\n",
    "\n",
    "// is a floor division operator.  It returns the integer quotient (rounded down; hence \"floor\") result from long division.\n",
    "\n",
    "% is the modulus operator.  It returns the remainder resulting from long division.\n",
    "\n",
    "Try these examples to see what the floor division and modulus operators return.\n",
    "\n",
    "    print(10//3)\n",
    "    print(10%3)"
   ]
  },
  {
   "cell_type": "code",
   "execution_count": 5,
   "metadata": {},
   "outputs": [
    {
     "name": "stdout",
     "output_type": "stream",
     "text": [
      "3\n",
      "1\n"
     ]
    }
   ],
   "source": [
    "print(10//3)\n",
    "print(10%3)"
   ]
  },
  {
   "cell_type": "markdown",
   "metadata": {},
   "source": [
    "**Some notes about strings** \n",
    "\n",
    "Within the various types of scalars, strings some unique properties: one is that their characters are indexed by their position in the string. An important thing to know about Python is that its indexing starts at 0, not at 1 as you would use in something like Matlab.  Once defined, a string is what we call **immutable**, which means we cannot alter the contents of that string; however, we can extract the components of the string using their indices. For an example of how this works,  I will define a variable called animal that will be the string 'dog'\n",
    "\n",
    "    animal = 'dog'\n",
    "\n",
    "Considering that Python indexing starts at 0, the first character in the string **animal** would be extracted by typing:\n",
    "\n",
    "    animal[0]\n",
    "\n",
    "Similarly, the 2nd and 3rd elements of **animal** would be called by typing:\n",
    "\n",
    "    animal[1]\n",
    "    animal[2]\n",
    "\n",
    "Try printing each character individually in the cell below, i.e., type:\n",
    "\n",
    "    print(animal[0])\n",
    "    print(animal[1])\n",
    "    print(animal[2])\n",
    "\n",
    "You also have the option of providing multiple arguments to the print function.  If written as above, D, o, and g will be displayed on different lines.  If I wanted to instead return each character on a single line, I could do so by typing:\n",
    "\n",
    "    print(animal[0], animal[1], animal[2])"
   ]
  },
  {
   "cell_type": "code",
   "execution_count": 8,
   "metadata": {},
   "outputs": [
    {
     "name": "stdout",
     "output_type": "stream",
     "text": [
      "d o g\n"
     ]
    }
   ],
   "source": [
    "animal = 'dog'\n",
    "print(animal[0],animal[1],animal[2])"
   ]
  },
  {
   "cell_type": "markdown",
   "metadata": {},
   "source": [
    "When things are indexed, like strings, you can easily determine the total number of elements or characters in that item using the **len()** function; for example:\n",
    "\n",
    "    len(animal)\n",
    "\n",
    "Will confirm that there are 3 characters in 'dog.'"
   ]
  },
  {
   "cell_type": "code",
   "execution_count": 9,
   "metadata": {},
   "outputs": [
    {
     "data": {
      "text/plain": [
       "3"
      ]
     },
     "execution_count": 9,
     "metadata": {},
     "output_type": "execute_result"
    }
   ],
   "source": [
    "len(animal)"
   ]
  },
  {
   "cell_type": "markdown",
   "metadata": {},
   "source": [
    "You are not restricted to extracting a single element of a string at a time.  You can easily access multiple elements from a string by specifying a range with the colon operator.  For example:\n",
    "\n",
    "    animal[0:2]\n",
    "\n",
    "says 'extract the first and second elements from **animal**, i.e., this will extract 'do' from 'dog'. At first glance, it seems like this operation should extract the first, second, and third elements because it includes indices 0 to 2.  Not so in Python.  By default, Python will include the first element in a range but exclude the final element in a range. If you wanted to extract 'dog' in this example, you would need to type:\n",
    "\n",
    "    animal[0:3]\n",
    "\n",
    "This is counterintuitive because we know that animal has only 3 characters, and it looks like we are asking for 4 to be returned, but again, by default, Python excludes the last element from a range. \n",
    "\n",
    "Try it out below to get a feel for range specifications in Python! Remember: if you want to see the results of multiple character extractions in a single cell, you will need to use the print() function."
   ]
  },
  {
   "cell_type": "code",
   "execution_count": 10,
   "metadata": {},
   "outputs": [
    {
     "name": "stdout",
     "output_type": "stream",
     "text": [
      "dog\n"
     ]
    }
   ],
   "source": [
    "print(animal[0:3])"
   ]
  },
  {
   "cell_type": "markdown",
   "metadata": {},
   "source": [
    "Next, we will introduce some useful shorthands in Python; you should definitely be aware of these.\n",
    "\n",
    "    animal[:2]\n",
    "\n",
    "will extract all elements from the beginning of **animal** up to (but not including, see note above) the character at index = 2.\n",
    "\n",
    "whereas\n",
    "\n",
    "    animal[0:]\n",
    "\n",
    "will extract everything from the first element to the last element of **animal**.  Of special significance, this operation **does** include the last character in **animal**, unlike a typical range where the upper limit is explicitly given. \n",
    "\n",
    "Finally, Python supports negative indexing, which starts from the last element in a set.  So, I can type:\n",
    "\n",
    "    animal[-1] \n",
    "\n",
    "to return the last element, i.e., 'g' in this example and \n",
    "\n",
    "    animal[-2]\n",
    "\n",
    "to return the second-to-last element, 'o' in this example.\n",
    "\n",
    "Get some practice with these operations in the cell below."
   ]
  },
  {
   "cell_type": "code",
   "execution_count": 16,
   "metadata": {},
   "outputs": [
    {
     "name": "stdout",
     "output_type": "stream",
     "text": [
      "do\n",
      "dog\n",
      "dog\n"
     ]
    }
   ],
   "source": [
    "print(animal[:2])\n",
    "print(animal[0:])\n",
    "print(animal[-3:])"
   ]
  },
  {
   "cell_type": "markdown",
   "metadata": {},
   "source": [
    "Using index operations like this to extract parts of a string is called \"slicing.\" We do **a lot** of it when processing both strings and other collections of data. \n",
    "\n",
    "Finally, an example of **concatenation**. Loosely, concatenation means to combine multiple *things* to form a new single *thing* that is comprised of those parts. I can **concatenate** strings and parts of strings very easily in Python using math operators - the most straightforward way is using the **+** operator.  For example, I could rearrange the letters in dog to create a new string called **nonsense** by typing\n",
    "\n",
    "    nonsense = animal[1] + animal[0] + animal[2]\n",
    "\n",
    "And I could make something completely new by concatenating 'dog' with a comma string, a period string, and part of the above quote from a Cohen brothers movie:\n",
    "\n",
    "    original_port_huron_statement = E[11:30] + ', ' + animal + '.'\n",
    "    \n",
    "Define and print the strings in nonsense and port_huron_statement in the cell below."
   ]
  },
  {
   "cell_type": "code",
   "execution_count": 18,
   "metadata": {},
   "outputs": [
    {
     "name": "stdout",
     "output_type": "stream",
     "text": [
      "odg\n",
      "you're not a golfer, dog.\n"
     ]
    }
   ],
   "source": [
    "nonsense = animal[1] + animal[0] + animal[2]\n",
    "print(nonsense)\n",
    "original_port_huron_statement = E[11:30] + ', ' + animal + '.'\n",
    "print(original_port_huron_statement)\n"
   ]
  },
  {
   "cell_type": "markdown",
   "metadata": {},
   "source": [
    "If you ever needed to duplicate a string, you could do so with multiplication; however, you have to recall that this is a concatenation of a string.  Multiplication between a string an a floating point number is not permissible because it is unclear what, e.g., 0.75\\*'dog' *is* exactly, whereas we can provide a logical output for 3*'dog'. Print the results for the operations below and consider why they behave as they do.\n",
    "\n",
    "    echo = 5*animal\n",
    "    moar_echo = 5*(animal+E)\n",
    "    error = 5.0*animal"
   ]
  },
  {
   "cell_type": "code",
   "execution_count": 22,
   "metadata": {},
   "outputs": [
    {
     "name": "stdout",
     "output_type": "stream",
     "text": [
      "dogdogdogdogdog\n",
      "dogObviously, you're not a golfer.dogObviously, you're not a golfer.dogObviously, you're not a golfer.dogObviously, you're not a golfer.dogObviously, you're not a golfer.\n"
     ]
    }
   ],
   "source": [
    "echo = 5*animal\n",
    "moar_echo = 5*(animal+E)\n",
    "\n",
    "print(echo)\n",
    "print(moar_echo)"
   ]
  },
  {
   "cell_type": "markdown",
   "metadata": {},
   "source": [
    "One final note:  strings are the only type of scalar that is indexed this way.  If I were to define an integer:\n",
    "\n",
    "    F = 12345\n",
    "\n",
    "I ***cannot*** retrieve its individual elements by typing \n",
    "\n",
    "    F[0] \n",
    "    F[1]\n",
    "    F[2]\n",
    "\n",
    "I also cannot ask for its length using\n",
    "\n",
    "    len(F)\n",
    "\n",
    "Doing either will return an error. **Strings are the only type of scalar that we can slice via indexing.** It is good to know what different types of errors look like in Python, so give it a try with an integer below!!!"
   ]
  },
  {
   "cell_type": "code",
   "execution_count": 24,
   "metadata": {},
   "outputs": [],
   "source": [
    "F = 12345\n",
    "#len(F) returns an error"
   ]
  },
  {
   "cell_type": "markdown",
   "metadata": {},
   "source": [
    "Now we will move on to the independent part of this tutorial so you can get some practice with defining, indexing, and manipulating scalars. You may need to use **print()** frequently to make sure that things display when you run the cell.\n",
    "\n",
    "**Assignment**\n",
    "\n",
    "In the cell below,\n",
    "\n",
    "Define the following scalars in Python:\n",
    "\n",
    "    G = 754\n",
    "    H = 'Nova Scotia Duck Tolling Retriever'\n",
    "    I = False\n",
    "    J = 529.65\n",
    "    K = \"Ole Einar Bjorndalen\""
   ]
  },
  {
   "cell_type": "code",
   "execution_count": 26,
   "metadata": {},
   "outputs": [],
   "source": [
    "G = 754\n",
    "H = 'Nova Scotia Duck Tolling Retriever'\n",
    "I = False\n",
    "J = 529.65\n",
    "K = \"Ole Einar Bjorndalen\""
   ]
  },
  {
   "cell_type": "markdown",
   "metadata": {},
   "source": [
    "Use **print()** to display each variable and **type()** to determine the type of scalar for G, H, I, J, and K.  "
   ]
  },
  {
   "cell_type": "code",
   "execution_count": 28,
   "metadata": {},
   "outputs": [
    {
     "name": "stdout",
     "output_type": "stream",
     "text": [
      "754\n",
      "<class 'int'>\n",
      "Nova Scotia Duck Tolling Retriever\n",
      "<class 'str'>\n",
      "False\n",
      "<class 'bool'>\n",
      "529.65\n",
      "<class 'float'>\n",
      "Ole Einar Bjorndalen\n",
      "<class 'str'>\n"
     ]
    }
   ],
   "source": [
    "print(G)\n",
    "print(type(G))\n",
    "print(H)\n",
    "print(type(H))\n",
    "print(I)\n",
    "print(type(I))\n",
    "print(J)\n",
    "print(type(J))\n",
    "print(K)\n",
    "print(type(K))"
   ]
  },
  {
   "cell_type": "markdown",
   "metadata": {},
   "source": [
    "One of the entries you just created is a breed of dog; extract the 1st and 34th elements of this string."
   ]
  },
  {
   "cell_type": "code",
   "execution_count": 35,
   "metadata": {},
   "outputs": [
    {
     "name": "stdout",
     "output_type": "stream",
     "text": [
      "N\n",
      "r\n"
     ]
    }
   ],
   "source": [
    "print(H[0])\n",
    "print(H[33])\n"
   ]
  },
  {
   "cell_type": "markdown",
   "metadata": {},
   "source": [
    "Create new variables called **first**, **middle**, and **last**. Respectively, they should contain the characters 'Ole', 'Einar', and 'Bjorndalen' that you extract from the string defined in K. "
   ]
  },
  {
   "cell_type": "code",
   "execution_count": 36,
   "metadata": {},
   "outputs": [
    {
     "name": "stdout",
     "output_type": "stream",
     "text": [
      "Ole\n",
      "Einar\n",
      "Bjorndalen\n"
     ]
    }
   ],
   "source": [
    "first = K[0:3]\n",
    "middle = K[4:9]\n",
    "last = K[10:]\n",
    "print(first)\n",
    "print(middle)\n",
    "print(last)"
   ]
  },
  {
   "cell_type": "markdown",
   "metadata": {},
   "source": [
    "Concatenate the 1st, 6th, 13th, 18th, and 26th characters of the string in H to make a new variable called **acronym**."
   ]
  },
  {
   "cell_type": "code",
   "execution_count": 37,
   "metadata": {},
   "outputs": [
    {
     "name": "stdout",
     "output_type": "stream",
     "text": [
      "NSDTR\n"
     ]
    }
   ],
   "source": [
    "acronym = H[0] + H[5] + H[12] + H[17] + H[25] \n",
    "print(acronym)"
   ]
  },
  {
   "cell_type": "markdown",
   "metadata": {},
   "source": [
    "Define a new variable **skill** that contains the 18th through 24th characters in the variable H. Print the results to learn what this hunting dog is known for."
   ]
  },
  {
   "cell_type": "code",
   "execution_count": 40,
   "metadata": {},
   "outputs": [
    {
     "name": "stdout",
     "output_type": "stream",
     "text": [
      "Tolling\n"
     ]
    }
   ],
   "source": [
    "skill = H[17:24]\n",
    "print(skill)"
   ]
  },
  {
   "cell_type": "markdown",
   "metadata": {},
   "source": [
    "Concatenate the following characters into a new string called **medalist**; print the result to learn why Ole Einar is so famous in Norway: \n",
    "\n",
    "index 10 in K<br>\n",
    "10th element in H<br>\n",
    "index 7 in K<br>\n",
    "9th element in H<br>\n",
    "the letter 'h'<br>\n",
    "21st element in H<br>\n",
    "13th element in K<br>\n",
    "index 14 in K<br>"
   ]
  },
  {
   "cell_type": "code",
   "execution_count": 41,
   "metadata": {},
   "outputs": [
    {
     "name": "stdout",
     "output_type": "stream",
     "text": [
      "Biathlon\n"
     ]
    }
   ],
   "source": [
    "medalist = K[10] + H[9] + K[7] + H[8] + 'h' + H[20] + K[12] + K[14] \n",
    "print(medalist)"
   ]
  }
 ],
 "metadata": {
  "kernelspec": {
   "display_name": "Python 3",
   "language": "python",
   "name": "python3"
  },
  "language_info": {
   "codemirror_mode": {
    "name": "ipython",
    "version": 3
   },
   "file_extension": ".py",
   "mimetype": "text/x-python",
   "name": "python",
   "nbconvert_exporter": "python",
   "pygments_lexer": "ipython3",
   "version": "3.7.6"
  }
 },
 "nbformat": 4,
 "nbformat_minor": 4
}
