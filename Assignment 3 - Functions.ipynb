{
 "cells": [
  {
   "cell_type": "markdown",
   "metadata": {},
   "source": [
    "# This assignment should be completed in consultation with your full guild; the final outcome impacts everyone!\n",
    "\n",
    "**Functions**\n",
    "\n",
    "Functions are some of the most useful classes of objects in any high level programming language, and Python is no exception!  In very basic terms, a function accepts inputs, performs operations on them, and returns outputs.  The classic idea we all have of a function is something like y is a function of x for example,\n",
    "\n",
    "y(x) = 2*x + 5\n",
    "\n",
    "But we will see in a moment that functions are far more general and flexible. In Python, we follow a few important rules to define a function. To start, you declare a function with the **def** keyword, and you always use the following syntax:\n",
    "\n",
    "    def function_name(inputs):\n",
    "\n",
    "Where \"function_name\" can be anything you want it to be, and \"inputs\" can be zero, one, or more inputs that you will provide to the function in order for it to perform its operations. Of the parts you see here, the only things that are non negotiable in a function definition are \"def\" and \":\" \n",
    "\n",
    "**The next bit is important:** Every line after the first one in the function (the one with def and : in it), all the way up to the end of your function, *must be indented from the left margin*. If a line is indented beyond the def keyword, that means that line is inside of the function definition.  Once you return to the left margin, you are no longer writing code inside of that function. Python uses indentation instead of something like an **end** keyword that you see in many languages. In Python, indentation is what distinguishes a bit of code from being inside of a function (or loop) and being outside of that function (or loop). Typically a good editor will auto-indent the next line for you once it sees a : at the end of a line.  Jupyter, for example, does this by default.\n",
    "\n",
    "In Python, our simple linear function would look like this:\n",
    "\n",
    "    def y(x):\n",
    "        result = 2*x + 5\n",
    "        return result\n",
    "\n",
    "Let's get used to thinking through how a piece of code will work - you really cannot learn to program until you understand how code is executed, so this is good practice. In this example, any time I want to evaluate the answer for y(x), I give a value of x to the function, i.e., I provide the necessary **input** to my function. The function then computes the \"result\" for that value of the input using whatever operations I specify, and then it **returns** that result as its **output**. I can set that result equal to a variable, I can print it to the screen, and I can use it for all manner of operations once I've run the function. This is a fairly easy function to evaluate, and I can see that for x = 10, this function should give me the result that y = 25.  Let's try it in the cell below.  Starting flush at the left margin (The **def** keyword should not be indented in the Python cell for this example), type the function definition exactly as it appears above, including indentation, and then return flush to the left margin and type:\n",
    "\n",
    "    print(y(10))\n",
    "    \n",
    "Confirm that you get the result of 25 before moving on."
   ]
  },
  {
   "cell_type": "code",
   "execution_count": 4,
   "metadata": {},
   "outputs": [
    {
     "name": "stdout",
     "output_type": "stream",
     "text": [
      "25\n"
     ]
    }
   ],
   "source": [
    "def y(x):\n",
    "    result = 2*x + 5\n",
    "    return result\n",
    "print(y(10))"
   ]
  },
  {
   "cell_type": "markdown",
   "metadata": {},
   "source": [
    "Technically, this *is* an example of a function. It is just a pretty boring one (Editor's note: Don't let its simplicity fool you, linear models are **super useful**). But I want everyone to learn to think more abstractly about what functions are and what they can do, so we need to break the habit of always thinking that by \"function\" we mean \"polynomial\" as in the y(x) example above.  \n",
    "\n",
    "The general definition, again, is that functions are code modules that take inputs and use those inputs to generate and return outputs. They can be very large and complex, they can take many inputs, they can do lots of different operations, and they can return many outputs.\n",
    "\n",
    "So let's try something more complex - we will create a function called **f** that takes x, y, and z as inputs; uses those inputs to calculate the corresponding values of A, B, and C; and returns A, B, and C as outputs. \n",
    "\n",
    "    def f(x, y, z):\n",
    "        A = x + y\n",
    "        B = A*5\n",
    "        C = z**3 + B\n",
    "        return A, B, C\n",
    "\n",
    "Now that I've defined the function, I can use it function to calculate A, B, and C for x = 1, y = 2, and z = 3:\n",
    "\n",
    "    A, B, C = f(1, 2, 3)\n",
    "    print(A, B, C)\n",
    "\n",
    "Try this example in the cell below for x, y, z = 1, 2, 3; it should return three numbers, the last of which is, by pure serendipity, the answer to the ultimate question of life, the universe, and everything. Confirm that you are getting the correct result before proceeding."
   ]
  },
  {
   "cell_type": "code",
   "execution_count": 5,
   "metadata": {},
   "outputs": [
    {
     "name": "stdout",
     "output_type": "stream",
     "text": [
      "3 15 42\n"
     ]
    }
   ],
   "source": [
    "def f(x, y, z):\n",
    "    A = x + y\n",
    "    B = A*5\n",
    "    C = z**3 + B\n",
    "    return A, B, C\n",
    "A, B, C = f(1, 2, 3)\n",
    "print(A, B, C)"
   ]
  },
  {
   "cell_type": "markdown",
   "metadata": {},
   "source": [
    "OK: that function is objectively more interesting, but it is still relatively *boring* as things go...and it only hints at the flexibility of functions and the things that they are capable of doing. \n",
    "\n",
    "I was trying to come up with a fun and completely general example of something you can do with a function...and it occurred to me that you never know when you will need a set of polyhedral dice (that means many sided dice) on a moment's notice.  You may have none on hand and really need to roll a d12 for something. \n",
    "\n",
    "Seriously, **Has this ever happened to you?**  \n",
    "\n",
    "Sure, you can Google something. But how about we impress...*almost no one*...by writing our own dice roller in Python?  \n",
    "\n",
    "We will do this using a function. This function will accept two inputs from you:  The number of **sides** that your dice have, and the number of **dice** you wish to roll. It will produce one output: a list of your dice rolls. First, though, we have to learn a few things and import a new module.  \n",
    "\n",
    "Dice are randomizers - rolling them selects a random integer between 1 and the number of sides that the die has. For example, if you roll a 6-sided die (a d6), it has an equal probability (1 out of 6) of returning 1, 2, 3, 4, 5, or 6.  We can mimic this by using a random integer generator that selects from the integers 1 to 6. To my knowledge, there is not a random number generator in base Python (though there might be), but I do know that there is one in the \"random\" package.  Since this isn't in base Python by default, we need to import it.\n",
    "\n",
    "To start, let's import the random package by typing the following in the cell below.\n",
    "\n",
    "    import random"
   ]
  },
  {
   "cell_type": "code",
   "execution_count": 6,
   "metadata": {},
   "outputs": [],
   "source": [
    "import random"
   ]
  },
  {
   "cell_type": "markdown",
   "metadata": {},
   "source": [
    "Now that we have imported this package, we can use the modules included in that package.  The one we are interested in is called **randint**.  It takes two inputs from you - the smallest number you want included in your random set (we will call this **a**), and the largest number you want included in your random set (we will call this **b**). **Note** unlike ranges, randint includes both endpoints!\n",
    "\n",
    "When you want to generate a random integer between (and including) a and b, you would type:\n",
    "\n",
    "    random.randint(a,b)\n",
    "\n",
    "Try it in the cell below for a single d6, for which a = 1 and b = 6."
   ]
  },
  {
   "cell_type": "code",
   "execution_count": 7,
   "metadata": {},
   "outputs": [
    {
     "data": {
      "text/plain": [
       "6"
      ]
     },
     "execution_count": 7,
     "metadata": {},
     "output_type": "execute_result"
    }
   ],
   "source": [
    "random.randint(1,6) "
   ]
  },
  {
   "cell_type": "markdown",
   "metadata": {},
   "source": [
    "OK, so that gives us a result for a single dice roll for a d6.  Now let's abstract this idea a bit and create a function that will allow us to roll any type of die we want as many times as we want.  \n",
    "\n",
    "The core of this function is going to be a list comprehension. Recall from Assignment 2 that list comprehensions provide a concise way to create a list of numbers easily using any (relatively simple) operation that you have in mind. In the first exercise, we used them to generate a large list of squares and to convert a list of integers into strings...but we can just as easily use it to create a list of random integers between (and including) **a** and **b**...or, relevant here, a set of 15 rolls on a d6:\n",
    "\n",
    "    roll = [random.randint(1,6) for i in range(1,16)]\n",
    "\n",
    "This list comprehension is making 15 random rolls for each element in the iterable (range(1,16)), and it stores each one in a list called **roll**. As usual, the range function excludes the upper limit from iterations, so we go to 16 instead of 15.  \n",
    "\n",
    "Try it out in the cell below; if you print the result, you should see a set of 15 random numbers all between (and including) 1 and 6."
   ]
  },
  {
   "cell_type": "code",
   "execution_count": 9,
   "metadata": {},
   "outputs": [
    {
     "name": "stdout",
     "output_type": "stream",
     "text": [
      "[5, 3, 4, 4, 3, 2, 4, 1, 4, 5, 2, 6, 6, 3, 4]\n"
     ]
    }
   ],
   "source": [
    "roll = [random.randint(1,6) for i in range(1,16)]\n",
    "print(roll)"
   ]
  },
  {
   "cell_type": "markdown",
   "metadata": {},
   "source": [
    "Now we're getting somewhere!  Let's see if we can put that list comprehension inside of a function in a way that will let us use this function to calculate any number of roll outcomes for any type of die. To do this, we will construct a function that takes two inputs from us:  the number of **sides** that our dice have, and the number of **dice** we want to roll. Then we use our list comprehension and random integer generator to get the result of those dice rolls:\n",
    "\n",
    "    def roller(sides, dice):\n",
    "        roll  = [randint(1, sides) for i in range(1, dice+1)]\n",
    "        return roll\n",
    "\n",
    "The way I have written this range will give me the exact number of rolls I want, i.e., the range between the first roll (1) and up to but not including the last roll (dice+1).  The result is a number of rolls = dice as desired. Go ahead and define this function *exactly as written above* in the cell below."
   ]
  },
  {
   "cell_type": "code",
   "execution_count": 32,
   "metadata": {},
   "outputs": [],
   "source": [
    "def roller(sides, dice):\n",
    "    roll = [random.randint(1, sides) for i in range(1,dice+1)]\n",
    "    return roll"
   ]
  },
  {
   "cell_type": "markdown",
   "metadata": {},
   "source": [
    "To use that function, we just need to give it the number of sides and the number of dice.  Let's try it out for rolling **4d12** (that's rolling a 12 sided die four times), **6d6**, **2d10**, and, just for fun, **3d39** in the cell below.  For example, to roll 4d12, you would type:\n",
    "\n",
    "    roller(12,4)\n",
    "    \n",
    "Try it for all the dice/sides combinations given above, and print your results to the screen, and then consult the next markdown cell..."
   ]
  },
  {
   "cell_type": "code",
   "execution_count": 36,
   "metadata": {},
   "outputs": [
    {
     "name": "stdout",
     "output_type": "stream",
     "text": [
      "[5, 12, 7, 3]\n",
      "[3, 1, 1, 4, 3, 5]\n",
      "[8, 6]\n",
      "[4, 28, 35]\n"
     ]
    }
   ],
   "source": [
    "roll1 = roller(12,4)\n",
    "print(roll1)\n",
    "roll2 = roller(6,6)\n",
    "print(roll2)\n",
    "roll3 = roller(10,2)\n",
    "print(roll3)\n",
    "roll4 = roller(39,3)\n",
    "print(roll4)"
   ]
  },
  {
   "cell_type": "markdown",
   "metadata": {},
   "source": [
    "Oops!  Did I leave a bug in there somewhere?  Read your error messages carefuly - you will have to identify it and fix it to complete the assignment.  I will give you a hint: it is in the function definition block, and you may want to consult Assignment 1 for the solution.  Go back and correct your function above and verify that the roller works before proceeding!!!!\n",
    "\n",
    "********************************"
   ]
  },
  {
   "cell_type": "markdown",
   "metadata": {},
   "source": [
    "OK, now that we have that issue sorted out, let's use the dice roller to generate a set of random indices that will determine the all-important **coat of arms for our guild**. To do this, we will roll **4d20** and then cross reference the results with a couple of lists that are pre-generated in the cell below. Go ahead and run the next cell to store the lists, and then we will talk more about using the dice roller."
   ]
  },
  {
   "cell_type": "code",
   "execution_count": 35,
   "metadata": {},
   "outputs": [],
   "source": [
    "list1 = ['red', 'orange', 'blue', 'gold', 'cornflower', 'burnt sienna','umber', 'silver', 'electric purple', 'puce', 'cyan', 'magenta', 'mountain dew yellow', 'cheeto orange', 'green', 'yellow', 'azure', 'cornsilk', 'brown', 'teal']\n",
    "list2 = ['wolf', \"Pere David's deer\",'tasmanian tiger','tardigrade','komodo dragon', 'bass', 'falcon', 'chtulu', 'billy-bumbler', 'raccoon', 'koala bear', 'banty rooster', 'dire mouse', 'gazelle', 'moon bear', 'tepezcuintle', 'pudu deer', 'Gary the Capybara','dire mouse', 'three-toed sloth']\n",
    "list3 = [\"bridgewater\", \"kalimba\", \"acology\", \"whiskerine\", \"vespiform\", \"kitenge\", \"wold\", \"kinderspiel\", \"bodge\", \"yarder\", \"quisquous\", \"bucolic\", \"quarkonium\", \"diremption\",\"opacular\", \"raniform\", \"kapnography\", \"irenology\", \"xoanon\", \"electrophile\"]\n",
    "list4 = [\"Keoland\", \"Molvar\", \"Azure Sea\", \"The Barony of Derevendt\", \"The Bitter North\", \"The Bright Lands\", \"The Crystalmist Mountains\", \"The Duchy of Ulek\", \"Shibboleth\", \"The Rushmoors\", \"The Lost Caverns of Tsojcanth\", \"Gran March\", \"Greysmere\", \"The Free City of Greyhawk\", \"The Hool Marshes\", \"The Keep on the Borderlands\", \"The Icy Sea\", \"The Dreadwood\", \"Nulb\", \"Mount Sentvoor\"]"
   ]
  },
  {
   "cell_type": "markdown",
   "metadata": {},
   "source": [
    "We will use our dice roller to generate four rolls on a d20 that we will then convert to indices that corespond to the entries in the four lists above. We will use the first roll to tell us our guild's primary color; our second to determine the animal mascot for our guild; the third gives a random word that somehow describes an aspect of your guild; and the final tells us the location that our guild is located (home base, if you will). \n",
    "\n",
    "The one quirk that may not seem intuitive is that we will subtract 1 from each of the dice rolls to convert them from actual dice rolls to indices that we can use with the 20-element tables above. Remember, dice rolls go from 1 to the number of sides, but indices in Python start at 0. So a d20 gives you numbers from 1 to 20, but a 20-element Python List has indices that go from 0 to 19.  So as not to mess with our original dice roller and to demonstrate some more versatility of the languge, we will do this with a second list comprehension, where we use the result our of rolls as the interable in the next list comprehension. We saw an example of this previously, in Assigment 2, where we converted a set of integers into a set of strings. Just to give you some practice returning multiple values from a function, let's return both the roll list and the corresponding indices. The bit of code below also includes parts that will extract the color, animal, attribute, and kingdom for your guild, all of which you will use to determine your coat of arms.\n",
    "\n",
    "***If you are not currently coordinating with your guild, you need to make sure you do so before moving forward with this part of the exercise since the outcome impacts everyone!***\n",
    "\n",
    "\n",
    "\n",
    "    def generator(sides, dice):\n",
    "        roll  = [random.randint(1,sides) for i in range(1,dice+1)]\n",
    "        index = [result - 1 for result in roll]\n",
    "        return roll, index\n",
    "    \n",
    "    roll, index = generator(sides, dice)\n",
    "    print(roll, index)\n",
    "    color = list1[index[0]]\n",
    "    animal = list2[index[1]]\n",
    "    attribute = list3[index[2]]\n",
    "    kingdom   = list4[index[3]]\n",
    "    coat_of_arms = [color, animal, attribute, kingdom]\n",
    "    print(coat_of_arms)\n",
    "\n",
    "To run this function, you will need to provide inputs for both **sides** and **dice**.  You can do this by defining them explicity somewhere in your script:\n",
    "\n",
    "    sides = 20\n",
    "    dice  = 4\n",
    "    \n",
    "or you can pass these numbers directly to the function:\n",
    "\n",
    "    roll, index = generator(20, 4)\n",
    "\n",
    "either way will work fine.\n",
    "\n",
    "***Very Important*** Before you proceed with your results, here are the rules. You may run this function as many times as you wish to see how it behaves, *but your coat of arms is determined by your first result only!* ***RESPECT THE DICE***\n",
    "\n",
    "Please consult with your full guild right now. Once everyone is ready, write your coat-of-arms generator in the cell below and see what fate has in store for you!\n",
    "\n",
    "**So much depends on this one dice roll!**"
   ]
  },
  {
   "cell_type": "code",
   "execution_count": null,
   "metadata": {},
   "outputs": [],
   "source": []
  },
  {
   "cell_type": "markdown",
   "metadata": {},
   "source": [
    "To earn full XP for Assignment \\#3, your guild must:\n",
    "\n",
    "1. Randomly generate the four defining aspects of your guild (your coat of arms)\n",
    "2. Create a graphical illustration of your coat of arms that incorporates all four elements. \n",
    "3. Come up with a better name for your guild than \"Guild Number.\" Guilds identified by number always fade into history, but a Guild with a name will live forever in song!\n",
    "4. Upload the graphic of your coat-of-arms, a new guild name, and a copy of this completed notebook to Blackboard. \n",
    "\n",
    "**Please Note:** Creative and frequent usage of your coat of arms in this course is strongly encouraged."
   ]
  },
  {
   "cell_type": "code",
   "execution_count": null,
   "metadata": {},
   "outputs": [],
   "source": []
  }
 ],
 "metadata": {
  "kernelspec": {
   "display_name": "Python 3",
   "language": "python",
   "name": "python3"
  },
  "language_info": {
   "codemirror_mode": {
    "name": "ipython",
    "version": 3
   },
   "file_extension": ".py",
   "mimetype": "text/x-python",
   "name": "python",
   "nbconvert_exporter": "python",
   "pygments_lexer": "ipython3",
   "version": "3.7.6"
  }
 },
 "nbformat": 4,
 "nbformat_minor": 4
}
